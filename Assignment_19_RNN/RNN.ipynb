{
  "nbformat": 4,
  "nbformat_minor": 0,
  "metadata": {
    "colab": {
      "provenance": []
    },
    "kernelspec": {
      "name": "python3",
      "display_name": "Python 3"
    },
    "language_info": {
      "name": "python"
    }
  },
  "cells": [
    {
      "cell_type": "code",
      "execution_count": 1,
      "metadata": {
        "id": "353zAx7pjlOQ"
      },
      "outputs": [],
      "source": [
        "#Imports Libraies\n",
        "import os\n",
        "import numpy as np\n",
        "import pandas as pd\n",
        "import matplotlib.pyplot as plt\n",
        "from sklearn.preprocessing import MinMaxScaler\n",
        "from sklearn.metrics import mean_squared_error, mean_absolute_error\n",
        "import math\n",
        "import tensorflow as tf\n",
        "from tensorflow.keras.models import Sequential\n",
        "from tensorflow.keras.layers import Dense, SimpleRNN, LSTM, GRU\n",
        "from tensorflow.keras.callbacks import EarlyStopping, ReduceLROnPlateau\n",
        "import joblib\n"
      ]
    },
    {
      "cell_type": "code",
      "source": [
        "#Load the dataset\n",
        "csv_path = \"monthly_milk_production.csv\"\n",
        "df = pd.read_csv(csv_path)"
      ],
      "metadata": {
        "id": "JotauGV8k6s8"
      },
      "execution_count": 2,
      "outputs": []
    },
    {
      "cell_type": "code",
      "source": [
        "# Let's inspect the columns and head.\n",
        "display(df.head(20))"
      ],
      "metadata": {
        "colab": {
          "base_uri": "https://localhost:8080/",
          "height": 676
        },
        "id": "FNqw_njPlIAs",
        "outputId": "d1730a06-09c4-41a6-b243-5dde30709fb3"
      },
      "execution_count": 4,
      "outputs": [
        {
          "output_type": "display_data",
          "data": {
            "text/plain": [
              "       Date  Production\n",
              "0   1962-01         589\n",
              "1   1962-02         561\n",
              "2   1962-03         640\n",
              "3   1962-04         656\n",
              "4   1962-05         727\n",
              "5   1962-06         697\n",
              "6   1962-07         640\n",
              "7   1962-08         599\n",
              "8   1962-09         568\n",
              "9   1962-10         577\n",
              "10  1962-11         553\n",
              "11  1962-12         582\n",
              "12  1963-01         600\n",
              "13  1963-02         566\n",
              "14  1963-03         653\n",
              "15  1963-04         673\n",
              "16  1963-05         742\n",
              "17  1963-06         716\n",
              "18  1963-07         660\n",
              "19  1963-08         617"
            ],
            "text/html": [
              "\n",
              "  <div id=\"df-09045498-bb34-491b-a158-a89f57779b1c\" class=\"colab-df-container\">\n",
              "    <div>\n",
              "<style scoped>\n",
              "    .dataframe tbody tr th:only-of-type {\n",
              "        vertical-align: middle;\n",
              "    }\n",
              "\n",
              "    .dataframe tbody tr th {\n",
              "        vertical-align: top;\n",
              "    }\n",
              "\n",
              "    .dataframe thead th {\n",
              "        text-align: right;\n",
              "    }\n",
              "</style>\n",
              "<table border=\"1\" class=\"dataframe\">\n",
              "  <thead>\n",
              "    <tr style=\"text-align: right;\">\n",
              "      <th></th>\n",
              "      <th>Date</th>\n",
              "      <th>Production</th>\n",
              "    </tr>\n",
              "  </thead>\n",
              "  <tbody>\n",
              "    <tr>\n",
              "      <th>0</th>\n",
              "      <td>1962-01</td>\n",
              "      <td>589</td>\n",
              "    </tr>\n",
              "    <tr>\n",
              "      <th>1</th>\n",
              "      <td>1962-02</td>\n",
              "      <td>561</td>\n",
              "    </tr>\n",
              "    <tr>\n",
              "      <th>2</th>\n",
              "      <td>1962-03</td>\n",
              "      <td>640</td>\n",
              "    </tr>\n",
              "    <tr>\n",
              "      <th>3</th>\n",
              "      <td>1962-04</td>\n",
              "      <td>656</td>\n",
              "    </tr>\n",
              "    <tr>\n",
              "      <th>4</th>\n",
              "      <td>1962-05</td>\n",
              "      <td>727</td>\n",
              "    </tr>\n",
              "    <tr>\n",
              "      <th>5</th>\n",
              "      <td>1962-06</td>\n",
              "      <td>697</td>\n",
              "    </tr>\n",
              "    <tr>\n",
              "      <th>6</th>\n",
              "      <td>1962-07</td>\n",
              "      <td>640</td>\n",
              "    </tr>\n",
              "    <tr>\n",
              "      <th>7</th>\n",
              "      <td>1962-08</td>\n",
              "      <td>599</td>\n",
              "    </tr>\n",
              "    <tr>\n",
              "      <th>8</th>\n",
              "      <td>1962-09</td>\n",
              "      <td>568</td>\n",
              "    </tr>\n",
              "    <tr>\n",
              "      <th>9</th>\n",
              "      <td>1962-10</td>\n",
              "      <td>577</td>\n",
              "    </tr>\n",
              "    <tr>\n",
              "      <th>10</th>\n",
              "      <td>1962-11</td>\n",
              "      <td>553</td>\n",
              "    </tr>\n",
              "    <tr>\n",
              "      <th>11</th>\n",
              "      <td>1962-12</td>\n",
              "      <td>582</td>\n",
              "    </tr>\n",
              "    <tr>\n",
              "      <th>12</th>\n",
              "      <td>1963-01</td>\n",
              "      <td>600</td>\n",
              "    </tr>\n",
              "    <tr>\n",
              "      <th>13</th>\n",
              "      <td>1963-02</td>\n",
              "      <td>566</td>\n",
              "    </tr>\n",
              "    <tr>\n",
              "      <th>14</th>\n",
              "      <td>1963-03</td>\n",
              "      <td>653</td>\n",
              "    </tr>\n",
              "    <tr>\n",
              "      <th>15</th>\n",
              "      <td>1963-04</td>\n",
              "      <td>673</td>\n",
              "    </tr>\n",
              "    <tr>\n",
              "      <th>16</th>\n",
              "      <td>1963-05</td>\n",
              "      <td>742</td>\n",
              "    </tr>\n",
              "    <tr>\n",
              "      <th>17</th>\n",
              "      <td>1963-06</td>\n",
              "      <td>716</td>\n",
              "    </tr>\n",
              "    <tr>\n",
              "      <th>18</th>\n",
              "      <td>1963-07</td>\n",
              "      <td>660</td>\n",
              "    </tr>\n",
              "    <tr>\n",
              "      <th>19</th>\n",
              "      <td>1963-08</td>\n",
              "      <td>617</td>\n",
              "    </tr>\n",
              "  </tbody>\n",
              "</table>\n",
              "</div>\n",
              "    <div class=\"colab-df-buttons\">\n",
              "\n",
              "  <div class=\"colab-df-container\">\n",
              "    <button class=\"colab-df-convert\" onclick=\"convertToInteractive('df-09045498-bb34-491b-a158-a89f57779b1c')\"\n",
              "            title=\"Convert this dataframe to an interactive table.\"\n",
              "            style=\"display:none;\">\n",
              "\n",
              "  <svg xmlns=\"http://www.w3.org/2000/svg\" height=\"24px\" viewBox=\"0 -960 960 960\">\n",
              "    <path d=\"M120-120v-720h720v720H120Zm60-500h600v-160H180v160Zm220 220h160v-160H400v160Zm0 220h160v-160H400v160ZM180-400h160v-160H180v160Zm440 0h160v-160H620v160ZM180-180h160v-160H180v160Zm440 0h160v-160H620v160Z\"/>\n",
              "  </svg>\n",
              "    </button>\n",
              "\n",
              "  <style>\n",
              "    .colab-df-container {\n",
              "      display:flex;\n",
              "      gap: 12px;\n",
              "    }\n",
              "\n",
              "    .colab-df-convert {\n",
              "      background-color: #E8F0FE;\n",
              "      border: none;\n",
              "      border-radius: 50%;\n",
              "      cursor: pointer;\n",
              "      display: none;\n",
              "      fill: #1967D2;\n",
              "      height: 32px;\n",
              "      padding: 0 0 0 0;\n",
              "      width: 32px;\n",
              "    }\n",
              "\n",
              "    .colab-df-convert:hover {\n",
              "      background-color: #E2EBFA;\n",
              "      box-shadow: 0px 1px 2px rgba(60, 64, 67, 0.3), 0px 1px 3px 1px rgba(60, 64, 67, 0.15);\n",
              "      fill: #174EA6;\n",
              "    }\n",
              "\n",
              "    .colab-df-buttons div {\n",
              "      margin-bottom: 4px;\n",
              "    }\n",
              "\n",
              "    [theme=dark] .colab-df-convert {\n",
              "      background-color: #3B4455;\n",
              "      fill: #D2E3FC;\n",
              "    }\n",
              "\n",
              "    [theme=dark] .colab-df-convert:hover {\n",
              "      background-color: #434B5C;\n",
              "      box-shadow: 0px 1px 3px 1px rgba(0, 0, 0, 0.15);\n",
              "      filter: drop-shadow(0px 1px 2px rgba(0, 0, 0, 0.3));\n",
              "      fill: #FFFFFF;\n",
              "    }\n",
              "  </style>\n",
              "\n",
              "    <script>\n",
              "      const buttonEl =\n",
              "        document.querySelector('#df-09045498-bb34-491b-a158-a89f57779b1c button.colab-df-convert');\n",
              "      buttonEl.style.display =\n",
              "        google.colab.kernel.accessAllowed ? 'block' : 'none';\n",
              "\n",
              "      async function convertToInteractive(key) {\n",
              "        const element = document.querySelector('#df-09045498-bb34-491b-a158-a89f57779b1c');\n",
              "        const dataTable =\n",
              "          await google.colab.kernel.invokeFunction('convertToInteractive',\n",
              "                                                    [key], {});\n",
              "        if (!dataTable) return;\n",
              "\n",
              "        const docLinkHtml = 'Like what you see? Visit the ' +\n",
              "          '<a target=\"_blank\" href=https://colab.research.google.com/notebooks/data_table.ipynb>data table notebook</a>'\n",
              "          + ' to learn more about interactive tables.';\n",
              "        element.innerHTML = '';\n",
              "        dataTable['output_type'] = 'display_data';\n",
              "        await google.colab.output.renderOutput(dataTable, element);\n",
              "        const docLink = document.createElement('div');\n",
              "        docLink.innerHTML = docLinkHtml;\n",
              "        element.appendChild(docLink);\n",
              "      }\n",
              "    </script>\n",
              "  </div>\n",
              "\n",
              "\n",
              "    <div id=\"df-10ba27c7-dab8-49e4-a75b-4d33746ad858\">\n",
              "      <button class=\"colab-df-quickchart\" onclick=\"quickchart('df-10ba27c7-dab8-49e4-a75b-4d33746ad858')\"\n",
              "                title=\"Suggest charts\"\n",
              "                style=\"display:none;\">\n",
              "\n",
              "<svg xmlns=\"http://www.w3.org/2000/svg\" height=\"24px\"viewBox=\"0 0 24 24\"\n",
              "     width=\"24px\">\n",
              "    <g>\n",
              "        <path d=\"M19 3H5c-1.1 0-2 .9-2 2v14c0 1.1.9 2 2 2h14c1.1 0 2-.9 2-2V5c0-1.1-.9-2-2-2zM9 17H7v-7h2v7zm4 0h-2V7h2v10zm4 0h-2v-4h2v4z\"/>\n",
              "    </g>\n",
              "</svg>\n",
              "      </button>\n",
              "\n",
              "<style>\n",
              "  .colab-df-quickchart {\n",
              "      --bg-color: #E8F0FE;\n",
              "      --fill-color: #1967D2;\n",
              "      --hover-bg-color: #E2EBFA;\n",
              "      --hover-fill-color: #174EA6;\n",
              "      --disabled-fill-color: #AAA;\n",
              "      --disabled-bg-color: #DDD;\n",
              "  }\n",
              "\n",
              "  [theme=dark] .colab-df-quickchart {\n",
              "      --bg-color: #3B4455;\n",
              "      --fill-color: #D2E3FC;\n",
              "      --hover-bg-color: #434B5C;\n",
              "      --hover-fill-color: #FFFFFF;\n",
              "      --disabled-bg-color: #3B4455;\n",
              "      --disabled-fill-color: #666;\n",
              "  }\n",
              "\n",
              "  .colab-df-quickchart {\n",
              "    background-color: var(--bg-color);\n",
              "    border: none;\n",
              "    border-radius: 50%;\n",
              "    cursor: pointer;\n",
              "    display: none;\n",
              "    fill: var(--fill-color);\n",
              "    height: 32px;\n",
              "    padding: 0;\n",
              "    width: 32px;\n",
              "  }\n",
              "\n",
              "  .colab-df-quickchart:hover {\n",
              "    background-color: var(--hover-bg-color);\n",
              "    box-shadow: 0 1px 2px rgba(60, 64, 67, 0.3), 0 1px 3px 1px rgba(60, 64, 67, 0.15);\n",
              "    fill: var(--button-hover-fill-color);\n",
              "  }\n",
              "\n",
              "  .colab-df-quickchart-complete:disabled,\n",
              "  .colab-df-quickchart-complete:disabled:hover {\n",
              "    background-color: var(--disabled-bg-color);\n",
              "    fill: var(--disabled-fill-color);\n",
              "    box-shadow: none;\n",
              "  }\n",
              "\n",
              "  .colab-df-spinner {\n",
              "    border: 2px solid var(--fill-color);\n",
              "    border-color: transparent;\n",
              "    border-bottom-color: var(--fill-color);\n",
              "    animation:\n",
              "      spin 1s steps(1) infinite;\n",
              "  }\n",
              "\n",
              "  @keyframes spin {\n",
              "    0% {\n",
              "      border-color: transparent;\n",
              "      border-bottom-color: var(--fill-color);\n",
              "      border-left-color: var(--fill-color);\n",
              "    }\n",
              "    20% {\n",
              "      border-color: transparent;\n",
              "      border-left-color: var(--fill-color);\n",
              "      border-top-color: var(--fill-color);\n",
              "    }\n",
              "    30% {\n",
              "      border-color: transparent;\n",
              "      border-left-color: var(--fill-color);\n",
              "      border-top-color: var(--fill-color);\n",
              "      border-right-color: var(--fill-color);\n",
              "    }\n",
              "    40% {\n",
              "      border-color: transparent;\n",
              "      border-right-color: var(--fill-color);\n",
              "      border-top-color: var(--fill-color);\n",
              "    }\n",
              "    60% {\n",
              "      border-color: transparent;\n",
              "      border-right-color: var(--fill-color);\n",
              "    }\n",
              "    80% {\n",
              "      border-color: transparent;\n",
              "      border-right-color: var(--fill-color);\n",
              "      border-bottom-color: var(--fill-color);\n",
              "    }\n",
              "    90% {\n",
              "      border-color: transparent;\n",
              "      border-bottom-color: var(--fill-color);\n",
              "    }\n",
              "  }\n",
              "</style>\n",
              "\n",
              "      <script>\n",
              "        async function quickchart(key) {\n",
              "          const quickchartButtonEl =\n",
              "            document.querySelector('#' + key + ' button');\n",
              "          quickchartButtonEl.disabled = true;  // To prevent multiple clicks.\n",
              "          quickchartButtonEl.classList.add('colab-df-spinner');\n",
              "          try {\n",
              "            const charts = await google.colab.kernel.invokeFunction(\n",
              "                'suggestCharts', [key], {});\n",
              "          } catch (error) {\n",
              "            console.error('Error during call to suggestCharts:', error);\n",
              "          }\n",
              "          quickchartButtonEl.classList.remove('colab-df-spinner');\n",
              "          quickchartButtonEl.classList.add('colab-df-quickchart-complete');\n",
              "        }\n",
              "        (() => {\n",
              "          let quickchartButtonEl =\n",
              "            document.querySelector('#df-10ba27c7-dab8-49e4-a75b-4d33746ad858 button');\n",
              "          quickchartButtonEl.style.display =\n",
              "            google.colab.kernel.accessAllowed ? 'block' : 'none';\n",
              "        })();\n",
              "      </script>\n",
              "    </div>\n",
              "\n",
              "    </div>\n",
              "  </div>\n"
            ],
            "application/vnd.google.colaboratory.intrinsic+json": {
              "type": "dataframe",
              "summary": "{\n  \"name\": \"display(df\",\n  \"rows\": 20,\n  \"fields\": [\n    {\n      \"column\": \"Date\",\n      \"properties\": {\n        \"dtype\": \"object\",\n        \"num_unique_values\": 20,\n        \"samples\": [\n          \"1962-01\",\n          \"1963-06\",\n          \"1963-04\"\n        ],\n        \"semantic_type\": \"\",\n        \"description\": \"\"\n      }\n    },\n    {\n      \"column\": \"Production\",\n      \"properties\": {\n        \"dtype\": \"number\",\n        \"std\": 58,\n        \"min\": 553,\n        \"max\": 742,\n        \"num_unique_values\": 19,\n        \"samples\": [\n          589,\n          697,\n          600\n        ],\n        \"semantic_type\": \"\",\n        \"description\": \"\"\n      }\n    }\n  ]\n}"
            }
          },
          "metadata": {}
        }
      ]
    },
    {
      "cell_type": "code",
      "source": [
        "print(\"\\nDataset info:\")\n",
        "print(df.info())\n",
        "print(\"\\nDataset description (numeric columns):\")\n",
        "print(df.describe())"
      ],
      "metadata": {
        "colab": {
          "base_uri": "https://localhost:8080/"
        },
        "id": "fN13H9rQlLKV",
        "outputId": "81c14080-33fc-4ac7-8c5f-c40bbfb73089"
      },
      "execution_count": 5,
      "outputs": [
        {
          "output_type": "stream",
          "name": "stdout",
          "text": [
            "\n",
            "Dataset info:\n",
            "<class 'pandas.core.frame.DataFrame'>\n",
            "RangeIndex: 168 entries, 0 to 167\n",
            "Data columns (total 2 columns):\n",
            " #   Column      Non-Null Count  Dtype \n",
            "---  ------      --------------  ----- \n",
            " 0   Date        168 non-null    object\n",
            " 1   Production  168 non-null    int64 \n",
            "dtypes: int64(1), object(1)\n",
            "memory usage: 2.8+ KB\n",
            "None\n",
            "\n",
            "Dataset description (numeric columns):\n",
            "       Production\n",
            "count  168.000000\n",
            "mean   754.708333\n",
            "std    102.204524\n",
            "min    553.000000\n",
            "25%    677.750000\n",
            "50%    761.000000\n",
            "75%    824.500000\n",
            "max    969.000000\n"
          ]
        }
      ]
    },
    {
      "cell_type": "code",
      "source": [
        "# If there's a Month column that's not datetime, convert it.\n",
        "# Try common names\n",
        "date_col = None\n",
        "for possible in [\"Month\", \"Date\", \"month\", \"date\", df.columns[0]]:\n",
        "    if possible in df.columns:\n",
        "        date_col = possible\n",
        "        break"
      ],
      "metadata": {
        "id": "WsI-InoLlSkE"
      },
      "execution_count": 6,
      "outputs": []
    },
    {
      "cell_type": "code",
      "source": [
        "# If the date column is not parseable, we'll create a datetime index assuming monthly frequency.\n",
        "try:\n",
        "    # Try to parse date column to datetime\n",
        "    df[date_col] = pd.to_datetime(df[date_col])\n",
        "    df = df.sort_values(by=date_col).reset_index(drop=True)\n",
        "    df.set_index(date_col, inplace=True)\n",
        "except Exception as e:\n",
        "    # Handle cases where date parsing fails, e.g., by creating a default datetime index\n",
        "    print(f\"Error parsing date column: {e}. Using the first column as index label.\")\n",
        "    # Further handling or alternative logic can be added here"
      ],
      "metadata": {
        "colab": {
          "base_uri": "https://localhost:8080/"
        },
        "id": "U4-xpvQ3lVys",
        "outputId": "3a0e9daf-2755-433f-cd2e-d56b054bcaea"
      },
      "execution_count": 11,
      "outputs": [
        {
          "output_type": "stream",
          "name": "stdout",
          "text": [
            "Error parsing date column: 'Date'. Using the first column as index label.\n"
          ]
        }
      ]
    },
    {
      "cell_type": "code",
      "source": [
        "# If second column is the production\n",
        "if df.shape[1] >= 2:\n",
        "    prod_col = df.columns[1]\n",
        "    df.index = pd.date_range(start=\"2000-01-01\", periods=len(df), freq=\"ME\")\n",
        "    df = df.rename(columns={prod_col: \"MilkProduction\"})\n",
        "else:\n",
        "    # fallback\n",
        "    df.index = pd.date_range(start=\"2000-01-01\", periods=len(df), freq=\"ME\")\n",
        "    df.columns = [\"MilkProduction\"]"
      ],
      "metadata": {
        "id": "Wt2Jf5DClpLX"
      },
      "execution_count": 16,
      "outputs": []
    },
    {
      "cell_type": "code",
      "source": [
        "# Identify production column (numeric)\n",
        "prod_col = None\n",
        "for c in df.columns:\n",
        "    if pd.api.types.is_numeric_dtype(df[c]):\n",
        "        prod_col = c\n",
        "        break\n",
        "\n",
        "if prod_col is None:\n",
        "    raise ValueError(\"No numeric production column found in the dataset. Please check the CSV.\")\n",
        "\n",
        "series = df[prod_col].astype('float32')"
      ],
      "metadata": {
        "id": "BgZQX_g7l0Ek"
      },
      "execution_count": 17,
      "outputs": []
    },
    {
      "cell_type": "markdown",
      "source": [
        "# Step 1: Exploratory Data Analysis (EDA)"
      ],
      "metadata": {
        "id": "AkolPcLml6Nk"
      }
    },
    {
      "cell_type": "code",
      "source": [
        "print(\"\\nSeries head:\")\n",
        "print(series.head())"
      ],
      "metadata": {
        "colab": {
          "base_uri": "https://localhost:8080/"
        },
        "id": "kLwyHlcAl4Sf",
        "outputId": "7a05004a-0218-4ea7-a07a-dbd9f6baa5ab"
      },
      "execution_count": 18,
      "outputs": [
        {
          "output_type": "stream",
          "name": "stdout",
          "text": [
            "\n",
            "Series head:\n",
            "2000-01-31    589.0\n",
            "2000-02-29    561.0\n",
            "2000-03-31    640.0\n",
            "2000-04-30    656.0\n",
            "2000-05-31    727.0\n",
            "Freq: ME, Name: MilkProduction, dtype: float32\n"
          ]
        }
      ]
    },
    {
      "cell_type": "code",
      "source": [
        "# Plot the time series (single plot - matplotlib)\n",
        "plt.figure(figsize=(12,4))\n",
        "plt.plot(series.index, series.values)\n",
        "plt.title(\"Monthly Milk Production - Time Series\")\n",
        "plt.xlabel(\"Date\")\n",
        "plt.ylabel(prod_col)\n",
        "plt.grid(True)\n",
        "plt.show()"
      ],
      "metadata": {
        "colab": {
          "base_uri": "https://localhost:8080/",
          "height": 255
        },
        "id": "53yKxJw7l-24",
        "outputId": "3fce9e96-f526-400b-ffdb-8a0a0a487602"
      },
      "execution_count": 19,
      "outputs": [
        {
          "output_type": "display_data",
          "data": {
            "text/plain": [
              "<Figure size 1200x400 with 1 Axes>"
            ],
            "image/png": "[encoded data removed]"
          },
          "metadata": {}
        }
      ]
    },
    {
      "cell_type": "code",
      "source": [
        "# Check missing values and basic statistics\n",
        "print(\"\\nMissing values count:\", series.isna().sum())\n",
        "print(\"\\nBasic stats:\")\n",
        "print(series.describe())"
      ],
      "metadata": {
        "colab": {
          "base_uri": "https://localhost:8080/"
        },
        "id": "RfSjv_EWmCNV",
        "outputId": "291f6aed-faca-4133-d6a6-3a7c217d1318"
      },
      "execution_count": 20,
      "outputs": [
        {
          "output_type": "stream",
          "name": "stdout",
          "text": [
            "\n",
            "Missing values count: 0\n",
            "\n",
            "Basic stats:\n",
            "count    168.000000\n",
            "mean     754.708313\n",
            "std      102.204521\n",
            "min      553.000000\n",
            "25%      677.750000\n",
            "50%      761.000000\n",
            "75%      824.500000\n",
            "max      969.000000\n",
            "Name: MilkProduction, dtype: float64\n"
          ]
        }
      ]
    },
    {
      "cell_type": "code",
      "source": [
        "# If missing, we will forward-fill (common approach) - document this.\n",
        "if series.isna().sum() > 0:\n",
        "    print(\"\\nForward-filling missing values.\")\n",
        "    series = series.fillna(method='ffill')"
      ],
      "metadata": {
        "id": "EAEVU7pymEZ7"
      },
      "execution_count": 21,
      "outputs": []
    },
    {
      "cell_type": "markdown",
      "source": [
        "# Step 2: Data preparation for Deep Learning"
      ],
      "metadata": {
        "id": "O-5EjMH-mIIs"
      }
    },
    {
      "cell_type": "code",
      "source": [
        "# Normalize (MinMax) because RNNs converge faster with scaled data.\n",
        "scaler = MinMaxScaler(feature_range=(0,1))\n",
        "series_values = series.values.reshape(-1,1)\n",
        "series_scaled = scaler.fit_transform(series_values)"
      ],
      "metadata": {
        "id": "97Eml_JxmGU1"
      },
      "execution_count": 22,
      "outputs": []
    },
    {
      "cell_type": "code",
      "source": [
        "# Create sequences (sliding window)\n",
        "def create_sequences(data, window_size):\n",
        "    \"\"\"\n",
        "    Given a 1-D numpy array `data`, create input-output sequences using the specified `window_size`.\n",
        "    Returns X (samples, window_size, 1) and y (samples, 1).\n",
        "    \"\"\"\n",
        "    X, y = [], []\n",
        "    for i in range(len(data) - window_size):\n",
        "        X.append(data[i:i+window_size])\n",
        "        y.append(data[i+window_size])\n",
        "    X = np.array(X)\n",
        "    y = np.array(y)\n",
        "    return X, y"
      ],
      "metadata": {
        "id": "1B77XBOimKRi"
      },
      "execution_count": 23,
      "outputs": []
    },
    {
      "cell_type": "code",
      "source": [
        "# Hyperparameters for window and splits (you can tune these)\n",
        "WINDOW = 12  # months of history to predict next month\n",
        "train_ratio = 0.70\n",
        "val_ratio = 0.15  # test_ratio is remainder\n"
      ],
      "metadata": {
        "id": "VzYUpDHYmMX9"
      },
      "execution_count": 24,
      "outputs": []
    },
    {
      "cell_type": "code",
      "source": [
        "# Create sequences\n",
        "X_all, y_all = create_sequences(series_scaled, WINDOW)"
      ],
      "metadata": {
        "id": "Rlv26gH-mOja"
      },
      "execution_count": 25,
      "outputs": []
    },
    {
      "cell_type": "code",
      "source": [
        "# Split respecting time order\n",
        "n_total = len(X_all)\n",
        "n_train = int(n_total * train_ratio)\n",
        "n_val = int(n_total * (train_ratio + val_ratio))\n",
        "\n",
        "X_train = X_all[:n_train]\n",
        "y_train = y_all[:n_train]\n",
        "X_val = X_all[n_train:n_val]\n",
        "y_val = y_all[n_train:n_val]\n",
        "X_test = X_all[n_val:]\n",
        "y_test = y_all[n_val:]\n",
        "\n",
        "print(f\"\\nData shapes: X_train={X_train.shape}, y_train={y_train.shape}, X_val={X_val.shape}, X_test={X_test.shape}\")\n"
      ],
      "metadata": {
        "colab": {
          "base_uri": "https://localhost:8080/"
        },
        "id": "u2xI_446mR76",
        "outputId": "6ad433f2-2d82-4b32-f9a6-d77815b522f7"
      },
      "execution_count": 26,
      "outputs": [
        {
          "output_type": "stream",
          "name": "stdout",
          "text": [
            "\n",
            "Data shapes: X_train=(109, 12, 1), y_train=(109, 1), X_val=(23, 12, 1), X_test=(24, 12, 1)\n"
          ]
        }
      ]
    },
    {
      "cell_type": "markdown",
      "source": [
        "# Step 3: Model building (RNN, LSTM, GRU)"
      ],
      "metadata": {
        "id": "KfRy2AjpmZj_"
      }
    },
    {
      "cell_type": "code",
      "source": [
        "# We'll create a helper to build comparable models with configurable cell type.\n",
        "\n",
        "def build_model(cell_type='LSTM', window=WINDOW, units=64, lr=0.001):\n",
        "    \"\"\"\n",
        "    Builds and returns a compiled Keras Sequential model with the specified recurrent cell type.\n",
        "    cell_type: 'RNN' for SimpleRNN, 'LSTM', or 'GRU'\n",
        "    \"\"\"\n",
        "    model = Sequential()\n",
        "    if cell_type == 'RNN':\n",
        "        model.add(SimpleRNN(units, activation='tanh', input_shape=(window,1)))\n",
        "    elif cell_type == 'LSTM':\n",
        "        model.add(LSTM(units, activation='tanh', input_shape=(window,1)))\n",
        "    elif cell_type == 'GRU':\n",
        "        model.add(GRU(units, activation='tanh', input_shape=(window,1)))\n",
        "    else:\n",
        "        raise ValueError(\"cell_type must be 'RNN', 'LSTM' or 'GRU'\")\n",
        "    model.add(Dense(1))  # predict single scalar (next month's scaled production)\n",
        "    optimizer = tf.keras.optimizers.Adam(learning_rate=lr)\n",
        "    model.compile(optimizer=optimizer, loss='mse', metrics=['mae'])\n",
        "    return model"
      ],
      "metadata": {
        "id": "SoN8XaWtmWRB"
      },
      "execution_count": 27,
      "outputs": []
    },
    {
      "cell_type": "code",
      "source": [
        "# Build all three models\n",
        "units = 64\n",
        "rnn_model = build_model('RNN', WINDOW, units)\n",
        "lstm_model = build_model('LSTM', WINDOW, units)\n",
        "gru_model = build_model('GRU', WINDOW, units)\n",
        "\n",
        "# Print model summaries briefly\n",
        "print(\"\\nRNN model summary:\")\n",
        "rnn_model.summary()\n",
        "print(\"\\nLSTM model summary:\")\n",
        "lstm_model.summary()\n",
        "print(\"\\nGRU model summary:\")\n",
        "gru_model.summary()"
      ],
      "metadata": {
        "colab": {
          "base_uri": "https://localhost:8080/",
          "height": 704
        },
        "id": "8M6zgw_Omc3I",
        "outputId": "7a967266-9d5e-44ad-a6b5-1f8d18683d9d"
      },
      "execution_count": 28,
      "outputs": [
        {
          "output_type": "stream",
          "name": "stdout",
          "text": [
            "\n",
            "RNN model summary:\n"
          ]
        },
        {
          "output_type": "stream",
          "name": "stderr",
          "text": [
            "/usr/local/lib/python3.12/dist-packages/keras/src/layers/rnn/rnn.py:199: UserWarning: Do not pass an `input_shape`/`input_dim` argument to a layer. When using Sequential models, prefer using an `Input(shape)` object as the first layer in the model instead.\n",
            "  super().__init__(**kwargs)\n"
          ]
        },
        {
          "output_type": "display_data",
          "data": {
            "text/plain": [
              "\u001b[1mModel: \"sequential\"\u001b[0m\n"
            ],
            "text/html": [
              "<pre style=\"white-space:pre;overflow-x:auto;line-height:normal;font-family:Menlo,'DejaVu Sans Mono',consolas,'Courier New',monospace\"><span style=\"font-weight: bold\">Model: \"sequential\"</span>\n",
              "</pre>\n"
            ]
          },
          "metadata": {}
        },
        {
          "output_type": "display_data",
          "data": {
            "text/plain": [
              "┏━━━━━━━━━━━━━━━━━━━━━━━━━━━━━━━━━┳━━━━━━━━━━━━━━━━━━━━━━━━┳━━━━━━━━━━━━━━━┓\n",
              "┃\u001b[1m \u001b[0m\u001b[1mLayer (type)                   \u001b[0m\u001b[1m \u001b[0m┃\u001b[1m \u001b[0m\u001b[1mOutput Shape          \u001b[0m\u001b[1m \u001b[0m┃\u001b[1m \u001b[0m\u001b[1m      Param #\u001b[0m\u001b[1m \u001b[0m┃\n",
              "┡━━━━━━━━━━━━━━━━━━━━━━━━━━━━━━━━━╇━━━━━━━━━━━━━━━━━━━━━━━━╇━━━━━━━━━━━━━━━┩\n",
              "│ simple_rnn (\u001b[38;5;33mSimpleRNN\u001b[0m)          │ (\u001b[38;5;45mNone\u001b[0m, \u001b[38;5;34m64\u001b[0m)             │         \u001b[38;5;34m4,224\u001b[0m │\n",
              "├─────────────────────────────────┼────────────────────────┼───────────────┤\n",
              "│ dense (\u001b[38;5;33mDense\u001b[0m)                   │ (\u001b[38;5;45mNone\u001b[0m, \u001b[38;5;34m1\u001b[0m)              │            \u001b[38;5;34m65\u001b[0m │\n",
              "└─────────────────────────────────┴────────────────────────┴───────────────┘\n"
            ],
            "text/html": [
              "<pre style=\"white-space:pre;overflow-x:auto;line-height:normal;font-family:Menlo,'DejaVu Sans Mono',consolas,'Courier New',monospace\">┏━━━━━━━━━━━━━━━━━━━━━━━━━━━━━━━━━┳━━━━━━━━━━━━━━━━━━━━━━━━┳━━━━━━━━━━━━━━━┓\n",
              "┃<span style=\"font-weight: bold\"> Layer (type)                    </span>┃<span style=\"font-weight: bold\"> Output Shape           </span>┃<span style=\"font-weight: bold\">       Param # </span>┃\n",
              "┡━━━━━━━━━━━━━━━━━━━━━━━━━━━━━━━━━╇━━━━━━━━━━━━━━━━━━━━━━━━╇━━━━━━━━━━━━━━━┩\n",
              "│ simple_rnn (<span style=\"color: #0087ff; text-decoration-color: #0087ff\">SimpleRNN</span>)          │ (<span style=\"color: #00d7ff; text-decoration-color: #00d7ff\">None</span>, <span style=\"color: #00af00; text-decoration-color: #00af00\">64</span>)             │         <span style=\"color: #00af00; text-decoration-color: #00af00\">4,224</span> │\n",
              "├─────────────────────────────────┼────────────────────────┼───────────────┤\n",
              "│ dense (<span style=\"color: #0087ff; text-decoration-color: #0087ff\">Dense</span>)                   │ (<span style=\"color: #00d7ff; text-decoration-color: #00d7ff\">None</span>, <span style=\"color: #00af00; text-decoration-color: #00af00\">1</span>)              │            <span style=\"color: #00af00; text-decoration-color: #00af00\">65</span> │\n",
              "└─────────────────────────────────┴────────────────────────┴───────────────┘\n",
              "</pre>\n"
            ]
          },
          "metadata": {}
        },
        {
          "output_type": "display_data",
          "data": {
            "text/plain": [
              "\u001b[1m Total params: \u001b[0m\u001b[38;5;34m4,289\u001b[0m (16.75 KB)\n"
            ],
            "text/html": [
              "<pre style=\"white-space:pre;overflow-x:auto;line-height:normal;font-family:Menlo,'DejaVu Sans Mono',consolas,'Courier New',monospace\"><span style=\"font-weight: bold\"> Total params: </span><span style=\"color: #00af00; text-decoration-color: #00af00\">4,289</span> (16.75 KB)\n",
              "</pre>\n"
            ]
          },
          "metadata": {}
        },
        {
          "output_type": "display_data",
          "data": {
            "text/plain": [
              "\u001b[1m Trainable params: \u001b[0m\u001b[38;5;34m4,289\u001b[0m (16.75 KB)\n"
            ],
            "text/html": [
              "<pre style=\"white-space:pre;overflow-x:auto;line-height:normal;font-family:Menlo,'DejaVu Sans Mono',consolas,'Courier New',monospace\"><span style=\"font-weight: bold\"> Trainable params: </span><span style=\"color: #00af00; text-decoration-color: #00af00\">4,289</span> (16.75 KB)\n",
              "</pre>\n"
            ]
          },
          "metadata": {}
        },
        {
          "output_type": "display_data",
          "data": {
            "text/plain": [
              "\u001b[1m Non-trainable params: \u001b[0m\u001b[38;5;34m0\u001b[0m (0.00 B)\n"
            ],
            "text/html": [
              "<pre style=\"white-space:pre;overflow-x:auto;line-height:normal;font-family:Menlo,'DejaVu Sans Mono',consolas,'Courier New',monospace\"><span style=\"font-weight: bold\"> Non-trainable params: </span><span style=\"color: #00af00; text-decoration-color: #00af00\">0</span> (0.00 B)\n",
              "</pre>\n"
            ]
          },
          "metadata": {}
        },
        {
          "output_type": "stream",
          "name": "stdout",
          "text": [
            "\n",
            "LSTM model summary:\n"
          ]
        },
        {
          "output_type": "display_data",
          "data": {
            "text/plain": [
              "\u001b[1mModel: \"sequential_1\"\u001b[0m\n"
            ],
            "text/html": [
              "<pre style=\"white-space:pre;overflow-x:auto;line-height:normal;font-family:Menlo,'DejaVu Sans Mono',consolas,'Courier New',monospace\"><span style=\"font-weight: bold\">Model: \"sequential_1\"</span>\n",
              "</pre>\n"
            ]
          },
          "metadata": {}
        },
        {
          "output_type": "display_data",
          "data": {
            "text/plain": [
              "┏━━━━━━━━━━━━━━━━━━━━━━━━━━━━━━━━━┳━━━━━━━━━━━━━━━━━━━━━━━━┳━━━━━━━━━━━━━━━┓\n",
              "┃\u001b[1m \u001b[0m\u001b[1mLayer (type)                   \u001b[0m\u001b[1m \u001b[0m┃\u001b[1m \u001b[0m\u001b[1mOutput Shape          \u001b[0m\u001b[1m \u001b[0m┃\u001b[1m \u001b[0m\u001b[1m      Param #\u001b[0m\u001b[1m \u001b[0m┃\n",
              "┡━━━━━━━━━━━━━━━━━━━━━━━━━━━━━━━━━╇━━━━━━━━━━━━━━━━━━━━━━━━╇━━━━━━━━━━━━━━━┩\n",
              "│ lstm (\u001b[38;5;33mLSTM\u001b[0m)                     │ (\u001b[38;5;45mNone\u001b[0m, \u001b[38;5;34m64\u001b[0m)             │        \u001b[38;5;34m16,896\u001b[0m │\n",
              "├─────────────────────────────────┼────────────────────────┼───────────────┤\n",
              "│ dense_1 (\u001b[38;5;33mDense\u001b[0m)                 │ (\u001b[38;5;45mNone\u001b[0m, \u001b[38;5;34m1\u001b[0m)              │            \u001b[38;5;34m65\u001b[0m │\n",
              "└─────────────────────────────────┴────────────────────────┴───────────────┘\n"
            ],
            "text/html": [
              "<pre style=\"white-space:pre;overflow-x:auto;line-height:normal;font-family:Menlo,'DejaVu Sans Mono',consolas,'Courier New',monospace\">┏━━━━━━━━━━━━━━━━━━━━━━━━━━━━━━━━━┳━━━━━━━━━━━━━━━━━━━━━━━━┳━━━━━━━━━━━━━━━┓\n",
              "┃<span style=\"font-weight: bold\"> Layer (type)                    </span>┃<span style=\"font-weight: bold\"> Output Shape           </span>┃<span style=\"font-weight: bold\">       Param # </span>┃\n",
              "┡━━━━━━━━━━━━━━━━━━━━━━━━━━━━━━━━━╇━━━━━━━━━━━━━━━━━━━━━━━━╇━━━━━━━━━━━━━━━┩\n",
              "│ lstm (<span style=\"color: #0087ff; text-decoration-color: #0087ff\">LSTM</span>)                     │ (<span style=\"color: #00d7ff; text-decoration-color: #00d7ff\">None</span>, <span style=\"color: #00af00; text-decoration-color: #00af00\">64</span>)             │        <span style=\"color: #00af00; text-decoration-color: #00af00\">16,896</span> │\n",
              "├─────────────────────────────────┼────────────────────────┼───────────────┤\n",
              "│ dense_1 (<span style=\"color: #0087ff; text-decoration-color: #0087ff\">Dense</span>)                 │ (<span style=\"color: #00d7ff; text-decoration-color: #00d7ff\">None</span>, <span style=\"color: #00af00; text-decoration-color: #00af00\">1</span>)              │            <span style=\"color: #00af00; text-decoration-color: #00af00\">65</span> │\n",
              "└─────────────────────────────────┴────────────────────────┴───────────────┘\n",
              "</pre>\n"
            ]
          },
          "metadata": {}
        },
        {
          "output_type": "display_data",
          "data": {
            "text/plain": [
              "\u001b[1m Total params: \u001b[0m\u001b[38;5;34m16,961\u001b[0m (66.25 KB)\n"
            ],
            "text/html": [
              "<pre style=\"white-space:pre;overflow-x:auto;line-height:normal;font-family:Menlo,'DejaVu Sans Mono',consolas,'Courier New',monospace\"><span style=\"font-weight: bold\"> Total params: </span><span style=\"color: #00af00; text-decoration-color: #00af00\">16,961</span> (66.25 KB)\n",
              "</pre>\n"
            ]
          },
          "metadata": {}
        },
        {
          "output_type": "display_data",
          "data": {
            "text/plain": [
              "\u001b[1m Trainable params: \u001b[0m\u001b[38;5;34m16,961\u001b[0m (66.25 KB)\n"
            ],
            "text/html": [
              "<pre style=\"white-space:pre;overflow-x:auto;line-height:normal;font-family:Menlo,'DejaVu Sans Mono',consolas,'Courier New',monospace\"><span style=\"font-weight: bold\"> Trainable params: </span><span style=\"color: #00af00; text-decoration-color: #00af00\">16,961</span> (66.25 KB)\n",
              "</pre>\n"
            ]
          },
          "metadata": {}
        },
        {
          "output_type": "display_data",
          "data": {
            "text/plain": [
              "\u001b[1m Non-trainable params: \u001b[0m\u001b[38;5;34m0\u001b[0m (0.00 B)\n"
            ],
            "text/html": [
              "<pre style=\"white-space:pre;overflow-x:auto;line-height:normal;font-family:Menlo,'DejaVu Sans Mono',consolas,'Courier New',monospace\"><span style=\"font-weight: bold\"> Non-trainable params: </span><span style=\"color: #00af00; text-decoration-color: #00af00\">0</span> (0.00 B)\n",
              "</pre>\n"
            ]
          },
          "metadata": {}
        },
        {
          "output_type": "stream",
          "name": "stdout",
          "text": [
            "\n",
            "GRU model summary:\n"
          ]
        },
        {
          "output_type": "display_data",
          "data": {
            "text/plain": [
              "\u001b[1mModel: \"sequential_2\"\u001b[0m\n"
            ],
            "text/html": [
              "<pre style=\"white-space:pre;overflow-x:auto;line-height:normal;font-family:Menlo,'DejaVu Sans Mono',consolas,'Courier New',monospace\"><span style=\"font-weight: bold\">Model: \"sequential_2\"</span>\n",
              "</pre>\n"
            ]
          },
          "metadata": {}
        },
        {
          "output_type": "display_data",
          "data": {
            "text/plain": [
              "┏━━━━━━━━━━━━━━━━━━━━━━━━━━━━━━━━━┳━━━━━━━━━━━━━━━━━━━━━━━━┳━━━━━━━━━━━━━━━┓\n",
              "┃\u001b[1m \u001b[0m\u001b[1mLayer (type)                   \u001b[0m\u001b[1m \u001b[0m┃\u001b[1m \u001b[0m\u001b[1mOutput Shape          \u001b[0m\u001b[1m \u001b[0m┃\u001b[1m \u001b[0m\u001b[1m      Param #\u001b[0m\u001b[1m \u001b[0m┃\n",
              "┡━━━━━━━━━━━━━━━━━━━━━━━━━━━━━━━━━╇━━━━━━━━━━━━━━━━━━━━━━━━╇━━━━━━━━━━━━━━━┩\n",
              "│ gru (\u001b[38;5;33mGRU\u001b[0m)                       │ (\u001b[38;5;45mNone\u001b[0m, \u001b[38;5;34m64\u001b[0m)             │        \u001b[38;5;34m12,864\u001b[0m │\n",
              "├─────────────────────────────────┼────────────────────────┼───────────────┤\n",
              "│ dense_2 (\u001b[38;5;33mDense\u001b[0m)                 │ (\u001b[38;5;45mNone\u001b[0m, \u001b[38;5;34m1\u001b[0m)              │            \u001b[38;5;34m65\u001b[0m │\n",
              "└─────────────────────────────────┴────────────────────────┴───────────────┘\n"
            ],
            "text/html": [
              "<pre style=\"white-space:pre;overflow-x:auto;line-height:normal;font-family:Menlo,'DejaVu Sans Mono',consolas,'Courier New',monospace\">┏━━━━━━━━━━━━━━━━━━━━━━━━━━━━━━━━━┳━━━━━━━━━━━━━━━━━━━━━━━━┳━━━━━━━━━━━━━━━┓\n",
              "┃<span style=\"font-weight: bold\"> Layer (type)                    </span>┃<span style=\"font-weight: bold\"> Output Shape           </span>┃<span style=\"font-weight: bold\">       Param # </span>┃\n",
              "┡━━━━━━━━━━━━━━━━━━━━━━━━━━━━━━━━━╇━━━━━━━━━━━━━━━━━━━━━━━━╇━━━━━━━━━━━━━━━┩\n",
              "│ gru (<span style=\"color: #0087ff; text-decoration-color: #0087ff\">GRU</span>)                       │ (<span style=\"color: #00d7ff; text-decoration-color: #00d7ff\">None</span>, <span style=\"color: #00af00; text-decoration-color: #00af00\">64</span>)             │        <span style=\"color: #00af00; text-decoration-color: #00af00\">12,864</span> │\n",
              "├─────────────────────────────────┼────────────────────────┼───────────────┤\n",
              "│ dense_2 (<span style=\"color: #0087ff; text-decoration-color: #0087ff\">Dense</span>)                 │ (<span style=\"color: #00d7ff; text-decoration-color: #00d7ff\">None</span>, <span style=\"color: #00af00; text-decoration-color: #00af00\">1</span>)              │            <span style=\"color: #00af00; text-decoration-color: #00af00\">65</span> │\n",
              "└─────────────────────────────────┴────────────────────────┴───────────────┘\n",
              "</pre>\n"
            ]
          },
          "metadata": {}
        },
        {
          "output_type": "display_data",
          "data": {
            "text/plain": [
              "\u001b[1m Total params: \u001b[0m\u001b[38;5;34m12,929\u001b[0m (50.50 KB)\n"
            ],
            "text/html": [
              "<pre style=\"white-space:pre;overflow-x:auto;line-height:normal;font-family:Menlo,'DejaVu Sans Mono',consolas,'Courier New',monospace\"><span style=\"font-weight: bold\"> Total params: </span><span style=\"color: #00af00; text-decoration-color: #00af00\">12,929</span> (50.50 KB)\n",
              "</pre>\n"
            ]
          },
          "metadata": {}
        },
        {
          "output_type": "display_data",
          "data": {
            "text/plain": [
              "\u001b[1m Trainable params: \u001b[0m\u001b[38;5;34m12,929\u001b[0m (50.50 KB)\n"
            ],
            "text/html": [
              "<pre style=\"white-space:pre;overflow-x:auto;line-height:normal;font-family:Menlo,'DejaVu Sans Mono',consolas,'Courier New',monospace\"><span style=\"font-weight: bold\"> Trainable params: </span><span style=\"color: #00af00; text-decoration-color: #00af00\">12,929</span> (50.50 KB)\n",
              "</pre>\n"
            ]
          },
          "metadata": {}
        },
        {
          "output_type": "display_data",
          "data": {
            "text/plain": [
              "\u001b[1m Non-trainable params: \u001b[0m\u001b[38;5;34m0\u001b[0m (0.00 B)\n"
            ],
            "text/html": [
              "<pre style=\"white-space:pre;overflow-x:auto;line-height:normal;font-family:Menlo,'DejaVu Sans Mono',consolas,'Courier New',monospace\"><span style=\"font-weight: bold\"> Non-trainable params: </span><span style=\"color: #00af00; text-decoration-color: #00af00\">0</span> (0.00 B)\n",
              "</pre>\n"
            ]
          },
          "metadata": {}
        }
      ]
    },
    {
      "cell_type": "markdown",
      "source": [
        "# Training settings"
      ],
      "metadata": {
        "id": "T67A82YTmjYs"
      }
    },
    {
      "cell_type": "code",
      "source": [
        "callbacks = [\n",
        "    EarlyStopping(monitor='val_loss', patience=12, restore_best_weights=True, verbose=1),\n",
        "    ReduceLROnPlateau(monitor='val_loss', factor=0.5, patience=6, verbose=1)\n",
        "]\n",
        "\n",
        "EPOCHS = 150\n",
        "BATCH = 16\n",
        "\n",
        "# Train RNN\n",
        "print(\"\\nTraining SimpleRNN...\")\n",
        "history_rnn = rnn_model.fit(X_train, y_train, validation_data=(X_val, y_val),\n",
        "                            epochs=EPOCHS, batch_size=BATCH, callbacks=callbacks, verbose=2)\n",
        "\n",
        "# Train LSTM\n",
        "print(\"\\nTraining LSTM...\")\n",
        "history_lstm = lstm_model.fit(X_train, y_train, validation_data=(X_val, y_val),\n",
        "                              epochs=EPOCHS, batch_size=BATCH, callbacks=callbacks, verbose=2)\n",
        "\n",
        "# Train GRU\n",
        "print(\"\\nTraining GRU...\")\n",
        "history_gru = gru_model.fit(X_train, y_train, validation_data=(X_val, y_val),\n",
        "                            epochs=EPOCHS, batch_size=BATCH, callbacks=callbacks, verbose=2)\n"
      ],
      "metadata": {
        "colab": {
          "base_uri": "https://localhost:8080/"
        },
        "id": "4fcej4xamfx_",
        "outputId": "7738a826-2815-47f8-a574-6112eed6f132"
      },
      "execution_count": 29,
      "outputs": [
        {
          "output_type": "stream",
          "name": "stdout",
          "text": [
            "\n",
            "Training SimpleRNN...\n",
            "Epoch 1/150\n",
            "7/7 - 3s - 388ms/step - loss: 0.0576 - mae: 0.1937 - val_loss: 0.0167 - val_mae: 0.1042 - learning_rate: 1.0000e-03\n",
            "Epoch 2/150\n",
            "7/7 - 0s - 17ms/step - loss: 0.0117 - mae: 0.0860 - val_loss: 0.0131 - val_mae: 0.0972 - learning_rate: 1.0000e-03\n",
            "Epoch 3/150\n",
            "7/7 - 0s - 19ms/step - loss: 0.0078 - mae: 0.0717 - val_loss: 0.0042 - val_mae: 0.0557 - learning_rate: 1.0000e-03\n",
            "Epoch 4/150\n",
            "7/7 - 0s - 18ms/step - loss: 0.0055 - mae: 0.0577 - val_loss: 0.0168 - val_mae: 0.1137 - learning_rate: 1.0000e-03\n",
            "Epoch 5/150\n",
            "7/7 - 0s - 17ms/step - loss: 0.0035 - mae: 0.0465 - val_loss: 0.0043 - val_mae: 0.0548 - learning_rate: 1.0000e-03\n",
            "Epoch 6/150\n",
            "7/7 - 0s - 17ms/step - loss: 0.0030 - mae: 0.0444 - val_loss: 0.0054 - val_mae: 0.0608 - learning_rate: 1.0000e-03\n",
            "Epoch 7/150\n",
            "7/7 - 0s - 17ms/step - loss: 0.0025 - mae: 0.0385 - val_loss: 0.0040 - val_mae: 0.0505 - learning_rate: 1.0000e-03\n",
            "Epoch 8/150\n",
            "7/7 - 0s - 18ms/step - loss: 0.0020 - mae: 0.0349 - val_loss: 0.0032 - val_mae: 0.0447 - learning_rate: 1.0000e-03\n",
            "Epoch 9/150\n",
            "7/7 - 0s - 18ms/step - loss: 0.0019 - mae: 0.0337 - val_loss: 0.0031 - val_mae: 0.0465 - learning_rate: 1.0000e-03\n",
            "Epoch 10/150\n",
            "7/7 - 0s - 17ms/step - loss: 0.0017 - mae: 0.0323 - val_loss: 0.0029 - val_mae: 0.0436 - learning_rate: 1.0000e-03\n",
            "Epoch 11/150\n",
            "7/7 - 0s - 19ms/step - loss: 0.0017 - mae: 0.0326 - val_loss: 0.0029 - val_mae: 0.0437 - learning_rate: 1.0000e-03\n",
            "Epoch 12/150\n",
            "7/7 - 0s - 17ms/step - loss: 0.0017 - mae: 0.0314 - val_loss: 0.0030 - val_mae: 0.0443 - learning_rate: 1.0000e-03\n",
            "Epoch 13/150\n",
            "7/7 - 0s - 16ms/step - loss: 0.0017 - mae: 0.0321 - val_loss: 0.0029 - val_mae: 0.0443 - learning_rate: 1.0000e-03\n",
            "Epoch 14/150\n",
            "7/7 - 0s - 17ms/step - loss: 0.0017 - mae: 0.0329 - val_loss: 0.0029 - val_mae: 0.0419 - learning_rate: 1.0000e-03\n",
            "Epoch 15/150\n",
            "7/7 - 0s - 17ms/step - loss: 0.0017 - mae: 0.0319 - val_loss: 0.0030 - val_mae: 0.0430 - learning_rate: 1.0000e-03\n",
            "Epoch 16/150\n",
            "\n",
            "Epoch 16: ReduceLROnPlateau reducing learning rate to 0.0005000000237487257.\n",
            "7/7 - 0s - 17ms/step - loss: 0.0016 - mae: 0.0307 - val_loss: 0.0028 - val_mae: 0.0421 - learning_rate: 1.0000e-03\n",
            "Epoch 17/150\n",
            "7/7 - 0s - 19ms/step - loss: 0.0016 - mae: 0.0319 - val_loss: 0.0027 - val_mae: 0.0412 - learning_rate: 5.0000e-04\n",
            "Epoch 18/150\n",
            "7/7 - 0s - 17ms/step - loss: 0.0016 - mae: 0.0307 - val_loss: 0.0028 - val_mae: 0.0438 - learning_rate: 5.0000e-04\n",
            "Epoch 19/150\n",
            "7/7 - 0s - 18ms/step - loss: 0.0016 - mae: 0.0310 - val_loss: 0.0028 - val_mae: 0.0421 - learning_rate: 5.0000e-04\n",
            "Epoch 20/150\n",
            "7/7 - 0s - 18ms/step - loss: 0.0015 - mae: 0.0311 - val_loss: 0.0028 - val_mae: 0.0426 - learning_rate: 5.0000e-04\n",
            "Epoch 21/150\n",
            "7/7 - 0s - 18ms/step - loss: 0.0015 - mae: 0.0300 - val_loss: 0.0027 - val_mae: 0.0412 - learning_rate: 5.0000e-04\n",
            "Epoch 22/150\n",
            "7/7 - 0s - 17ms/step - loss: 0.0015 - mae: 0.0310 - val_loss: 0.0027 - val_mae: 0.0409 - learning_rate: 5.0000e-04\n",
            "Epoch 23/150\n",
            "\n",
            "Epoch 23: ReduceLROnPlateau reducing learning rate to 0.0002500000118743628.\n",
            "7/7 - 0s - 17ms/step - loss: 0.0016 - mae: 0.0302 - val_loss: 0.0027 - val_mae: 0.0410 - learning_rate: 5.0000e-04\n",
            "Epoch 24/150\n",
            "7/7 - 0s - 17ms/step - loss: 0.0015 - mae: 0.0309 - val_loss: 0.0027 - val_mae: 0.0418 - learning_rate: 2.5000e-04\n",
            "Epoch 25/150\n",
            "7/7 - 0s - 17ms/step - loss: 0.0015 - mae: 0.0306 - val_loss: 0.0027 - val_mae: 0.0404 - learning_rate: 2.5000e-04\n",
            "Epoch 26/150\n",
            "7/7 - 0s - 17ms/step - loss: 0.0015 - mae: 0.0297 - val_loss: 0.0027 - val_mae: 0.0412 - learning_rate: 2.5000e-04\n",
            "Epoch 27/150\n",
            "7/7 - 0s - 23ms/step - loss: 0.0015 - mae: 0.0294 - val_loss: 0.0026 - val_mae: 0.0404 - learning_rate: 2.5000e-04\n",
            "Epoch 28/150\n",
            "7/7 - 0s - 17ms/step - loss: 0.0015 - mae: 0.0306 - val_loss: 0.0027 - val_mae: 0.0412 - learning_rate: 2.5000e-04\n",
            "Epoch 29/150\n",
            "7/7 - 0s - 18ms/step - loss: 0.0014 - mae: 0.0307 - val_loss: 0.0026 - val_mae: 0.0406 - learning_rate: 2.5000e-04\n",
            "Epoch 30/150\n",
            "7/7 - 0s - 18ms/step - loss: 0.0015 - mae: 0.0297 - val_loss: 0.0027 - val_mae: 0.0413 - learning_rate: 2.5000e-04\n",
            "Epoch 31/150\n",
            "7/7 - 0s - 17ms/step - loss: 0.0014 - mae: 0.0295 - val_loss: 0.0027 - val_mae: 0.0408 - learning_rate: 2.5000e-04\n",
            "Epoch 32/150\n",
            "7/7 - 0s - 18ms/step - loss: 0.0014 - mae: 0.0306 - val_loss: 0.0026 - val_mae: 0.0404 - learning_rate: 2.5000e-04\n",
            "Epoch 33/150\n",
            "\n",
            "Epoch 33: ReduceLROnPlateau reducing learning rate to 0.0001250000059371814.\n",
            "7/7 - 0s - 18ms/step - loss: 0.0014 - mae: 0.0299 - val_loss: 0.0026 - val_mae: 0.0405 - learning_rate: 2.5000e-04\n",
            "Epoch 34/150\n",
            "7/7 - 0s - 18ms/step - loss: 0.0014 - mae: 0.0295 - val_loss: 0.0026 - val_mae: 0.0406 - learning_rate: 1.2500e-04\n",
            "Epoch 35/150\n",
            "7/7 - 0s - 20ms/step - loss: 0.0014 - mae: 0.0292 - val_loss: 0.0026 - val_mae: 0.0404 - learning_rate: 1.2500e-04\n",
            "Epoch 36/150\n",
            "7/7 - 0s - 18ms/step - loss: 0.0014 - mae: 0.0303 - val_loss: 0.0027 - val_mae: 0.0415 - learning_rate: 1.2500e-04\n",
            "Epoch 37/150\n",
            "7/7 - 0s - 18ms/step - loss: 0.0015 - mae: 0.0303 - val_loss: 0.0026 - val_mae: 0.0402 - learning_rate: 1.2500e-04\n",
            "Epoch 38/150\n",
            "7/7 - 0s - 18ms/step - loss: 0.0014 - mae: 0.0297 - val_loss: 0.0026 - val_mae: 0.0402 - learning_rate: 1.2500e-04\n",
            "Epoch 39/150\n",
            "\n",
            "Epoch 39: ReduceLROnPlateau reducing learning rate to 6.25000029685907e-05.\n",
            "7/7 - 0s - 20ms/step - loss: 0.0014 - mae: 0.0297 - val_loss: 0.0026 - val_mae: 0.0401 - learning_rate: 1.2500e-04\n",
            "Epoch 40/150\n",
            "7/7 - 0s - 18ms/step - loss: 0.0014 - mae: 0.0293 - val_loss: 0.0026 - val_mae: 0.0401 - learning_rate: 6.2500e-05\n",
            "Epoch 41/150\n",
            "7/7 - 0s - 18ms/step - loss: 0.0014 - mae: 0.0293 - val_loss: 0.0026 - val_mae: 0.0401 - learning_rate: 6.2500e-05\n",
            "Epoch 42/150\n",
            "7/7 - 0s - 17ms/step - loss: 0.0014 - mae: 0.0294 - val_loss: 0.0026 - val_mae: 0.0401 - learning_rate: 6.2500e-05\n",
            "Epoch 43/150\n",
            "7/7 - 0s - 19ms/step - loss: 0.0014 - mae: 0.0295 - val_loss: 0.0026 - val_mae: 0.0402 - learning_rate: 6.2500e-05\n",
            "Epoch 44/150\n",
            "7/7 - 0s - 17ms/step - loss: 0.0014 - mae: 0.0295 - val_loss: 0.0026 - val_mae: 0.0401 - learning_rate: 6.2500e-05\n",
            "Epoch 45/150\n",
            "\n",
            "Epoch 45: ReduceLROnPlateau reducing learning rate to 3.125000148429535e-05.\n",
            "7/7 - 0s - 18ms/step - loss: 0.0014 - mae: 0.0296 - val_loss: 0.0026 - val_mae: 0.0403 - learning_rate: 6.2500e-05\n",
            "Epoch 46/150\n",
            "7/7 - 0s - 17ms/step - loss: 0.0014 - mae: 0.0295 - val_loss: 0.0026 - val_mae: 0.0402 - learning_rate: 3.1250e-05\n",
            "Epoch 47/150\n",
            "7/7 - 0s - 18ms/step - loss: 0.0014 - mae: 0.0294 - val_loss: 0.0026 - val_mae: 0.0402 - learning_rate: 3.1250e-05\n",
            "Epoch 48/150\n",
            "7/7 - 0s - 17ms/step - loss: 0.0014 - mae: 0.0294 - val_loss: 0.0026 - val_mae: 0.0402 - learning_rate: 3.1250e-05\n",
            "Epoch 49/150\n",
            "7/7 - 0s - 18ms/step - loss: 0.0014 - mae: 0.0295 - val_loss: 0.0026 - val_mae: 0.0403 - learning_rate: 3.1250e-05\n",
            "Epoch 50/150\n",
            "7/7 - 0s - 17ms/step - loss: 0.0014 - mae: 0.0294 - val_loss: 0.0026 - val_mae: 0.0403 - learning_rate: 3.1250e-05\n",
            "Epoch 51/150\n",
            "\n",
            "Epoch 51: ReduceLROnPlateau reducing learning rate to 1.5625000742147677e-05.\n",
            "7/7 - 0s - 20ms/step - loss: 0.0014 - mae: 0.0293 - val_loss: 0.0026 - val_mae: 0.0402 - learning_rate: 3.1250e-05\n",
            "Epoch 52/150\n",
            "7/7 - 0s - 17ms/step - loss: 0.0014 - mae: 0.0292 - val_loss: 0.0026 - val_mae: 0.0401 - learning_rate: 1.5625e-05\n",
            "Epoch 53/150\n",
            "7/7 - 0s - 18ms/step - loss: 0.0014 - mae: 0.0293 - val_loss: 0.0026 - val_mae: 0.0402 - learning_rate: 1.5625e-05\n",
            "Epoch 54/150\n",
            "7/7 - 0s - 18ms/step - loss: 0.0014 - mae: 0.0293 - val_loss: 0.0026 - val_mae: 0.0402 - learning_rate: 1.5625e-05\n",
            "Epoch 54: early stopping\n",
            "Restoring model weights from the end of the best epoch: 42.\n",
            "\n",
            "Training LSTM...\n",
            "Epoch 1/150\n",
            "7/7 - 3s - 409ms/step - loss: 0.1340 - mae: 0.3138 - val_loss: 0.1346 - val_mae: 0.3320 - learning_rate: 1.0000e-03\n",
            "Epoch 2/150\n",
            "7/7 - 0s - 30ms/step - loss: 0.0381 - mae: 0.1595 - val_loss: 0.0341 - val_mae: 0.1587 - learning_rate: 1.0000e-03\n",
            "Epoch 3/150\n",
            "7/7 - 0s - 37ms/step - loss: 0.0337 - mae: 0.1591 - val_loss: 0.0270 - val_mae: 0.1491 - learning_rate: 1.0000e-03\n",
            "Epoch 4/150\n",
            "7/7 - 0s - 32ms/step - loss: 0.0248 - mae: 0.1342 - val_loss: 0.0392 - val_mae: 0.1522 - learning_rate: 1.0000e-03\n",
            "Epoch 5/150\n",
            "7/7 - 0s - 26ms/step - loss: 0.0273 - mae: 0.1351 - val_loss: 0.0397 - val_mae: 0.1526 - learning_rate: 1.0000e-03\n",
            "Epoch 6/150\n",
            "7/7 - 0s - 20ms/step - loss: 0.0255 - mae: 0.1353 - val_loss: 0.0282 - val_mae: 0.1427 - learning_rate: 1.0000e-03\n",
            "Epoch 7/150\n",
            "7/7 - 0s - 19ms/step - loss: 0.0245 - mae: 0.1372 - val_loss: 0.0265 - val_mae: 0.1430 - learning_rate: 1.0000e-03\n",
            "Epoch 8/150\n",
            "7/7 - 0s - 21ms/step - loss: 0.0249 - mae: 0.1382 - val_loss: 0.0290 - val_mae: 0.1411 - learning_rate: 1.0000e-03\n",
            "Epoch 9/150\n",
            "7/7 - 0s - 19ms/step - loss: 0.0238 - mae: 0.1337 - val_loss: 0.0278 - val_mae: 0.1399 - learning_rate: 1.0000e-03\n",
            "Epoch 10/150\n",
            "7/7 - 0s - 20ms/step - loss: 0.0236 - mae: 0.1344 - val_loss: 0.0258 - val_mae: 0.1397 - learning_rate: 1.0000e-03\n",
            "Epoch 11/150\n",
            "7/7 - 0s - 20ms/step - loss: 0.0231 - mae: 0.1326 - val_loss: 0.0272 - val_mae: 0.1380 - learning_rate: 1.0000e-03\n",
            "Epoch 12/150\n",
            "7/7 - 0s - 25ms/step - loss: 0.0228 - mae: 0.1310 - val_loss: 0.0260 - val_mae: 0.1369 - learning_rate: 1.0000e-03\n",
            "Epoch 13/150\n",
            "7/7 - 0s - 20ms/step - loss: 0.0223 - mae: 0.1300 - val_loss: 0.0247 - val_mae: 0.1365 - learning_rate: 1.0000e-03\n",
            "Epoch 14/150\n",
            "7/7 - 0s - 19ms/step - loss: 0.0220 - mae: 0.1288 - val_loss: 0.0244 - val_mae: 0.1352 - learning_rate: 1.0000e-03\n",
            "Epoch 15/150\n",
            "7/7 - 0s - 20ms/step - loss: 0.0214 - mae: 0.1275 - val_loss: 0.0230 - val_mae: 0.1348 - learning_rate: 1.0000e-03\n",
            "Epoch 16/150\n",
            "7/7 - 0s - 21ms/step - loss: 0.0211 - mae: 0.1281 - val_loss: 0.0225 - val_mae: 0.1334 - learning_rate: 1.0000e-03\n",
            "Epoch 17/150\n",
            "7/7 - 0s - 20ms/step - loss: 0.0206 - mae: 0.1239 - val_loss: 0.0229 - val_mae: 0.1309 - learning_rate: 1.0000e-03\n",
            "Epoch 18/150\n",
            "7/7 - 0s - 20ms/step - loss: 0.0201 - mae: 0.1223 - val_loss: 0.0214 - val_mae: 0.1323 - learning_rate: 1.0000e-03\n",
            "Epoch 19/150\n",
            "7/7 - 0s - 22ms/step - loss: 0.0195 - mae: 0.1231 - val_loss: 0.0205 - val_mae: 0.1278 - learning_rate: 1.0000e-03\n",
            "Epoch 20/150\n",
            "7/7 - 0s - 41ms/step - loss: 0.0187 - mae: 0.1193 - val_loss: 0.0197 - val_mae: 0.1253 - learning_rate: 1.0000e-03\n",
            "Epoch 21/150\n",
            "7/7 - 0s - 21ms/step - loss: 0.0175 - mae: 0.1149 - val_loss: 0.0217 - val_mae: 0.1275 - learning_rate: 1.0000e-03\n",
            "Epoch 22/150\n",
            "7/7 - 0s - 20ms/step - loss: 0.0179 - mae: 0.1167 - val_loss: 0.0181 - val_mae: 0.1196 - learning_rate: 1.0000e-03\n",
            "Epoch 23/150\n",
            "7/7 - 0s - 21ms/step - loss: 0.0155 - mae: 0.1074 - val_loss: 0.0269 - val_mae: 0.1356 - learning_rate: 1.0000e-03\n",
            "Epoch 24/150\n",
            "7/7 - 0s - 20ms/step - loss: 0.0158 - mae: 0.1087 - val_loss: 0.0166 - val_mae: 0.1108 - learning_rate: 1.0000e-03\n",
            "Epoch 25/150\n",
            "7/7 - 0s - 22ms/step - loss: 0.0146 - mae: 0.1035 - val_loss: 0.0153 - val_mae: 0.1049 - learning_rate: 1.0000e-03\n",
            "Epoch 26/150\n",
            "7/7 - 0s - 20ms/step - loss: 0.0131 - mae: 0.0935 - val_loss: 0.0171 - val_mae: 0.1082 - learning_rate: 1.0000e-03\n",
            "Epoch 27/150\n",
            "7/7 - 0s - 20ms/step - loss: 0.0115 - mae: 0.0889 - val_loss: 0.0140 - val_mae: 0.0977 - learning_rate: 1.0000e-03\n",
            "Epoch 28/150\n",
            "7/7 - 0s - 20ms/step - loss: 0.0107 - mae: 0.0832 - val_loss: 0.0214 - val_mae: 0.1238 - learning_rate: 1.0000e-03\n",
            "Epoch 29/150\n",
            "7/7 - 0s - 21ms/step - loss: 0.0098 - mae: 0.0804 - val_loss: 0.0156 - val_mae: 0.1034 - learning_rate: 1.0000e-03\n",
            "Epoch 30/150\n",
            "7/7 - 0s - 20ms/step - loss: 0.0085 - mae: 0.0734 - val_loss: 0.0143 - val_mae: 0.0996 - learning_rate: 1.0000e-03\n",
            "Epoch 31/150\n",
            "7/7 - 0s - 21ms/step - loss: 0.0088 - mae: 0.0755 - val_loss: 0.0089 - val_mae: 0.0758 - learning_rate: 1.0000e-03\n",
            "Epoch 32/150\n",
            "7/7 - 0s - 23ms/step - loss: 0.0091 - mae: 0.0744 - val_loss: 0.0086 - val_mae: 0.0748 - learning_rate: 1.0000e-03\n",
            "Epoch 33/150\n",
            "7/7 - 0s - 20ms/step - loss: 0.0077 - mae: 0.0686 - val_loss: 0.0060 - val_mae: 0.0604 - learning_rate: 1.0000e-03\n",
            "Epoch 34/150\n",
            "7/7 - 0s - 20ms/step - loss: 0.0063 - mae: 0.0616 - val_loss: 0.0075 - val_mae: 0.0685 - learning_rate: 1.0000e-03\n",
            "Epoch 35/150\n",
            "7/7 - 0s - 22ms/step - loss: 0.0048 - mae: 0.0517 - val_loss: 0.0061 - val_mae: 0.0600 - learning_rate: 1.0000e-03\n",
            "Epoch 36/150\n",
            "7/7 - 0s - 20ms/step - loss: 0.0052 - mae: 0.0580 - val_loss: 0.0141 - val_mae: 0.1036 - learning_rate: 1.0000e-03\n",
            "Epoch 37/150\n",
            "7/7 - 0s - 21ms/step - loss: 0.0065 - mae: 0.0613 - val_loss: 0.0045 - val_mae: 0.0536 - learning_rate: 1.0000e-03\n",
            "Epoch 38/150\n",
            "7/7 - 0s - 21ms/step - loss: 0.0043 - mae: 0.0500 - val_loss: 0.0071 - val_mae: 0.0681 - learning_rate: 1.0000e-03\n",
            "Epoch 39/150\n",
            "7/7 - 0s - 22ms/step - loss: 0.0038 - mae: 0.0454 - val_loss: 0.0055 - val_mae: 0.0577 - learning_rate: 1.0000e-03\n",
            "Epoch 40/150\n",
            "7/7 - 0s - 19ms/step - loss: 0.0035 - mae: 0.0431 - val_loss: 0.0036 - val_mae: 0.0466 - learning_rate: 1.0000e-03\n",
            "Epoch 41/150\n",
            "7/7 - 0s - 20ms/step - loss: 0.0033 - mae: 0.0424 - val_loss: 0.0061 - val_mae: 0.0641 - learning_rate: 1.0000e-03\n",
            "Epoch 42/150\n",
            "7/7 - 0s - 20ms/step - loss: 0.0040 - mae: 0.0494 - val_loss: 0.0070 - val_mae: 0.0690 - learning_rate: 1.0000e-03\n",
            "Epoch 43/150\n",
            "7/7 - 0s - 20ms/step - loss: 0.0042 - mae: 0.0500 - val_loss: 0.0052 - val_mae: 0.0595 - learning_rate: 1.0000e-03\n",
            "Epoch 44/150\n",
            "7/7 - 0s - 21ms/step - loss: 0.0035 - mae: 0.0454 - val_loss: 0.0043 - val_mae: 0.0524 - learning_rate: 1.0000e-03\n",
            "Epoch 45/150\n",
            "7/7 - 0s - 20ms/step - loss: 0.0032 - mae: 0.0429 - val_loss: 0.0071 - val_mae: 0.0679 - learning_rate: 1.0000e-03\n",
            "Epoch 46/150\n",
            "\n",
            "Epoch 46: ReduceLROnPlateau reducing learning rate to 0.0005000000237487257.\n",
            "7/7 - 0s - 22ms/step - loss: 0.0036 - mae: 0.0456 - val_loss: 0.0048 - val_mae: 0.0555 - learning_rate: 1.0000e-03\n",
            "Epoch 47/150\n",
            "7/7 - 0s - 19ms/step - loss: 0.0029 - mae: 0.0419 - val_loss: 0.0047 - val_mae: 0.0549 - learning_rate: 5.0000e-04\n",
            "Epoch 48/150\n",
            "7/7 - 0s - 20ms/step - loss: 0.0029 - mae: 0.0420 - val_loss: 0.0055 - val_mae: 0.0589 - learning_rate: 5.0000e-04\n",
            "Epoch 49/150\n",
            "7/7 - 0s - 20ms/step - loss: 0.0030 - mae: 0.0434 - val_loss: 0.0047 - val_mae: 0.0556 - learning_rate: 5.0000e-04\n",
            "Epoch 50/150\n",
            "7/7 - 0s - 20ms/step - loss: 0.0030 - mae: 0.0431 - val_loss: 0.0044 - val_mae: 0.0549 - learning_rate: 5.0000e-04\n",
            "Epoch 51/150\n",
            "7/7 - 0s - 20ms/step - loss: 0.0032 - mae: 0.0435 - val_loss: 0.0047 - val_mae: 0.0564 - learning_rate: 5.0000e-04\n",
            "Epoch 52/150\n",
            "\n",
            "Epoch 52: ReduceLROnPlateau reducing learning rate to 0.0002500000118743628.\n",
            "7/7 - 0s - 20ms/step - loss: 0.0039 - mae: 0.0495 - val_loss: 0.0056 - val_mae: 0.0602 - learning_rate: 5.0000e-04\n",
            "Epoch 52: early stopping\n",
            "Restoring model weights from the end of the best epoch: 40.\n",
            "\n",
            "Training GRU...\n",
            "Epoch 1/150\n",
            "7/7 - 3s - 433ms/step - loss: 0.1333 - mae: 0.3116 - val_loss: 0.1493 - val_mae: 0.3569 - learning_rate: 1.0000e-03\n",
            "Epoch 2/150\n",
            "7/7 - 0s - 34ms/step - loss: 0.0354 - mae: 0.1513 - val_loss: 0.0260 - val_mae: 0.1330 - learning_rate: 1.0000e-03\n",
            "Epoch 3/150\n",
            "7/7 - 0s - 45ms/step - loss: 0.0334 - mae: 0.1579 - val_loss: 0.0234 - val_mae: 0.1343 - learning_rate: 1.0000e-03\n",
            "Epoch 4/150\n",
            "7/7 - 0s - 36ms/step - loss: 0.0257 - mae: 0.1378 - val_loss: 0.0315 - val_mae: 0.1376 - learning_rate: 1.0000e-03\n",
            "Epoch 5/150\n",
            "7/7 - 0s - 30ms/step - loss: 0.0243 - mae: 0.1298 - val_loss: 0.0499 - val_mae: 0.1760 - learning_rate: 1.0000e-03\n",
            "Epoch 6/150\n",
            "7/7 - 0s - 37ms/step - loss: 0.0239 - mae: 0.1266 - val_loss: 0.0412 - val_mae: 0.1568 - learning_rate: 1.0000e-03\n",
            "Epoch 7/150\n",
            "7/7 - 0s - 32ms/step - loss: 0.0223 - mae: 0.1260 - val_loss: 0.0303 - val_mae: 0.1338 - learning_rate: 1.0000e-03\n",
            "Epoch 8/150\n",
            "7/7 - 0s - 36ms/step - loss: 0.0211 - mae: 0.1229 - val_loss: 0.0279 - val_mae: 0.1294 - learning_rate: 1.0000e-03\n",
            "Epoch 9/150\n",
            "\n",
            "Epoch 9: ReduceLROnPlateau reducing learning rate to 0.0005000000237487257.\n",
            "7/7 - 0s - 37ms/step - loss: 0.0207 - mae: 0.1221 - val_loss: 0.0270 - val_mae: 0.1272 - learning_rate: 1.0000e-03\n",
            "Epoch 10/150\n",
            "7/7 - 0s - 23ms/step - loss: 0.0202 - mae: 0.1205 - val_loss: 0.0283 - val_mae: 0.1288 - learning_rate: 5.0000e-04\n",
            "Epoch 11/150\n",
            "7/7 - 0s - 23ms/step - loss: 0.0198 - mae: 0.1192 - val_loss: 0.0283 - val_mae: 0.1285 - learning_rate: 5.0000e-04\n",
            "Epoch 12/150\n",
            "7/7 - 0s - 21ms/step - loss: 0.0197 - mae: 0.1186 - val_loss: 0.0288 - val_mae: 0.1292 - learning_rate: 5.0000e-04\n",
            "Epoch 13/150\n",
            "7/7 - 0s - 21ms/step - loss: 0.0193 - mae: 0.1177 - val_loss: 0.0275 - val_mae: 0.1266 - learning_rate: 5.0000e-04\n",
            "Epoch 14/150\n",
            "7/7 - 0s - 21ms/step - loss: 0.0192 - mae: 0.1174 - val_loss: 0.0260 - val_mae: 0.1237 - learning_rate: 5.0000e-04\n",
            "Epoch 15/150\n",
            "\n",
            "Epoch 15: ReduceLROnPlateau reducing learning rate to 0.0002500000118743628.\n",
            "7/7 - 0s - 21ms/step - loss: 0.0188 - mae: 0.1166 - val_loss: 0.0262 - val_mae: 0.1236 - learning_rate: 5.0000e-04\n",
            "Epoch 15: early stopping\n",
            "Restoring model weights from the end of the best epoch: 3.\n"
          ]
        }
      ]
    },
    {
      "cell_type": "code",
      "source": [
        "# Save models and scaler for future reuse\n",
        "model_dir = \"/mnt/data/milk_models\"\n",
        "os.makedirs(model_dir, exist_ok=True)\n",
        "rnn_model.save(os.path.join(model_dir, \"rnn_model.h5\"))\n",
        "lstm_model.save(os.path.join(model_dir, \"lstm_model.h5\"))\n",
        "gru_model.save(os.path.join(model_dir, \"gru_model.h5\"))\n",
        "joblib.dump(scaler, os.path.join(model_dir, \"scaler.save\"))\n",
        "\n",
        "print(f\"\\nModels and scaler saved to {model_dir}\")"
      ],
      "metadata": {
        "colab": {
          "base_uri": "https://localhost:8080/"
        },
        "id": "qigD2zmrmmvz",
        "outputId": "5c194b95-b314-41a3-e935-50592e93bcc7"
      },
      "execution_count": 30,
      "outputs": [
        {
          "output_type": "stream",
          "name": "stderr",
          "text": [
            "WARNING:absl:You are saving your model as an HDF5 file via `model.save()` or `keras.saving.save_model(model)`. This file format is considered legacy. We recommend using instead the native Keras format, e.g. `model.save('my_model.keras')` or `keras.saving.save_model(model, 'my_model.keras')`. \n",
            "WARNING:absl:You are saving your model as an HDF5 file via `model.save()` or `keras.saving.save_model(model)`. This file format is considered legacy. We recommend using instead the native Keras format, e.g. `model.save('my_model.keras')` or `keras.saving.save_model(model, 'my_model.keras')`. \n",
            "WARNING:absl:You are saving your model as an HDF5 file via `model.save()` or `keras.saving.save_model(model)`. This file format is considered legacy. We recommend using instead the native Keras format, e.g. `model.save('my_model.keras')` or `keras.saving.save_model(model, 'my_model.keras')`. \n"
          ]
        },
        {
          "output_type": "stream",
          "name": "stdout",
          "text": [
            "\n",
            "Models and scaler saved to /mnt/data/milk_models\n"
          ]
        }
      ]
    },
    {
      "cell_type": "markdown",
      "source": [
        "# Step 4: Model evaluation"
      ],
      "metadata": {
        "id": "ZHnAVyN8m7-3"
      }
    },
    {
      "cell_type": "code",
      "source": [
        "def inverse_transform_preds(scaled_preds):\n",
        "    \"\"\"Inverse transform scaled predictions back to original units using scaler.\"\"\"\n",
        "    return scaler.inverse_transform(np.array(scaled_preds).reshape(-1,1)).flatten()\n",
        "\n",
        "def compute_metrics(true_scaled, pred_scaled):\n",
        "    \"\"\"Compute RMSE, MAE, MAPE on original scale.\"\"\"\n",
        "    true = inverse_transform_preds(true_scaled)\n",
        "    pred = inverse_transform_preds(pred_scaled)\n",
        "    rmse = math.sqrt(mean_squared_error(true, pred))\n",
        "    mae = mean_absolute_error(true, pred)\n",
        "    mape = np.mean(np.abs((true - pred) / true)) * 100\n",
        "    return rmse, mae, mape, true, pred\n",
        "\n"
      ],
      "metadata": {
        "id": "L-aBHD_nm2Ho"
      },
      "execution_count": 31,
      "outputs": []
    },
    {
      "cell_type": "code",
      "source": [
        "# Evaluate on test set\n",
        "pred_rnn_test = rnn_model.predict(X_test)\n",
        "pred_lstm_test = lstm_model.predict(X_test)\n",
        "pred_gru_test = gru_model.predict(X_test)\n",
        "\n",
        "rnn_metrics = compute_metrics(y_test, pred_rnn_test)\n",
        "lstm_metrics = compute_metrics(y_test, pred_lstm_test)\n",
        "gru_metrics = compute_metrics(y_test, pred_gru_test)\n",
        "\n",
        "performance = pd.DataFrame({\n",
        "    \"Model\": [\"SimpleRNN\", \"LSTM\", \"GRU\"],\n",
        "    \"RMSE\": [rnn_metrics[0], lstm_metrics[0], gru_metrics[0]],\n",
        "    \"MAE\": [rnn_metrics[1], lstm_metrics[1], gru_metrics[1]],\n",
        "    \"MAPE(%)\": [rnn_metrics[2], lstm_metrics[2], gru_metrics[2]]\n",
        "})\n",
        "\n",
        "display(performance)"
      ],
      "metadata": {
        "colab": {
          "base_uri": "https://localhost:8080/",
          "height": 195
        },
        "id": "KnuoO4CHm_cQ",
        "outputId": "c7548c61-dadf-45b8-d8cd-09965b005322"
      },
      "execution_count": 36,
      "outputs": [
        {
          "output_type": "stream",
          "name": "stdout",
          "text": [
            "\u001b[1m1/1\u001b[0m \u001b[32m━━━━━━━━━━━━━━━━━━━━\u001b[0m\u001b[37m\u001b[0m \u001b[1m0s\u001b[0m 37ms/step\n",
            "\u001b[1m1/1\u001b[0m \u001b[32m━━━━━━━━━━━━━━━━━━━━\u001b[0m\u001b[37m\u001b[0m \u001b[1m0s\u001b[0m 40ms/step\n",
            "\u001b[1m1/1\u001b[0m \u001b[32m━━━━━━━━━━━━━━━━━━━━\u001b[0m\u001b[37m\u001b[0m \u001b[1m0s\u001b[0m 42ms/step\n"
          ]
        },
        {
          "output_type": "display_data",
          "data": {
            "text/plain": [
              "       Model       RMSE        MAE   MAPE(%)\n",
              "0  SimpleRNN  17.463890  14.620639  1.676584\n",
              "1       LSTM  25.944482  20.871771  2.440859\n",
              "2        GRU  61.793390  52.469967  6.014298"
            ],
            "text/html": [
              "\n",
              "  <div id=\"df-1d49e56a-59c1-402d-9848-1c1a7281d00b\" class=\"colab-df-container\">\n",
              "    <div>\n",
              "<style scoped>\n",
              "    .dataframe tbody tr th:only-of-type {\n",
              "        vertical-align: middle;\n",
              "    }\n",
              "\n",
              "    .dataframe tbody tr th {\n",
              "        vertical-align: top;\n",
              "    }\n",
              "\n",
              "    .dataframe thead th {\n",
              "        text-align: right;\n",
              "    }\n",
              "</style>\n",
              "<table border=\"1\" class=\"dataframe\">\n",
              "  <thead>\n",
              "    <tr style=\"text-align: right;\">\n",
              "      <th></th>\n",
              "      <th>Model</th>\n",
              "      <th>RMSE</th>\n",
              "      <th>MAE</th>\n",
              "      <th>MAPE(%)</th>\n",
              "    </tr>\n",
              "  </thead>\n",
              "  <tbody>\n",
              "    <tr>\n",
              "      <th>0</th>\n",
              "      <td>SimpleRNN</td>\n",
              "      <td>17.463890</td>\n",
              "      <td>14.620639</td>\n",
              "      <td>1.676584</td>\n",
              "    </tr>\n",
              "    <tr>\n",
              "      <th>1</th>\n",
              "      <td>LSTM</td>\n",
              "      <td>25.944482</td>\n",
              "      <td>20.871771</td>\n",
              "      <td>2.440859</td>\n",
              "    </tr>\n",
              "    <tr>\n",
              "      <th>2</th>\n",
              "      <td>GRU</td>\n",
              "      <td>61.793390</td>\n",
              "      <td>52.469967</td>\n",
              "      <td>6.014298</td>\n",
              "    </tr>\n",
              "  </tbody>\n",
              "</table>\n",
              "</div>\n",
              "    <div class=\"colab-df-buttons\">\n",
              "\n",
              "  <div class=\"colab-df-container\">\n",
              "    <button class=\"colab-df-convert\" onclick=\"convertToInteractive('df-1d49e56a-59c1-402d-9848-1c1a7281d00b')\"\n",
              "            title=\"Convert this dataframe to an interactive table.\"\n",
              "            style=\"display:none;\">\n",
              "\n",
              "  <svg xmlns=\"http://www.w3.org/2000/svg\" height=\"24px\" viewBox=\"0 -960 960 960\">\n",
              "    <path d=\"M120-120v-720h720v720H120Zm60-500h600v-160H180v160Zm220 220h160v-160H400v160Zm0 220h160v-160H400v160ZM180-400h160v-160H180v160Zm440 0h160v-160H620v160ZM180-180h160v-160H180v160Zm440 0h160v-160H620v160Z\"/>\n",
              "  </svg>\n",
              "    </button>\n",
              "\n",
              "  <style>\n",
              "    .colab-df-container {\n",
              "      display:flex;\n",
              "      gap: 12px;\n",
              "    }\n",
              "\n",
              "    .colab-df-convert {\n",
              "      background-color: #E8F0FE;\n",
              "      border: none;\n",
              "      border-radius: 50%;\n",
              "      cursor: pointer;\n",
              "      display: none;\n",
              "      fill: #1967D2;\n",
              "      height: 32px;\n",
              "      padding: 0 0 0 0;\n",
              "      width: 32px;\n",
              "    }\n",
              "\n",
              "    .colab-df-convert:hover {\n",
              "      background-color: #E2EBFA;\n",
              "      box-shadow: 0px 1px 2px rgba(60, 64, 67, 0.3), 0px 1px 3px 1px rgba(60, 64, 67, 0.15);\n",
              "      fill: #174EA6;\n",
              "    }\n",
              "\n",
              "    .colab-df-buttons div {\n",
              "      margin-bottom: 4px;\n",
              "    }\n",
              "\n",
              "    [theme=dark] .colab-df-convert {\n",
              "      background-color: #3B4455;\n",
              "      fill: #D2E3FC;\n",
              "    }\n",
              "\n",
              "    [theme=dark] .colab-df-convert:hover {\n",
              "      background-color: #434B5C;\n",
              "      box-shadow: 0px 1px 3px 1px rgba(0, 0, 0, 0.15);\n",
              "      filter: drop-shadow(0px 1px 2px rgba(0, 0, 0, 0.3));\n",
              "      fill: #FFFFFF;\n",
              "    }\n",
              "  </style>\n",
              "\n",
              "    <script>\n",
              "      const buttonEl =\n",
              "        document.querySelector('#df-1d49e56a-59c1-402d-9848-1c1a7281d00b button.colab-df-convert');\n",
              "      buttonEl.style.display =\n",
              "        google.colab.kernel.accessAllowed ? 'block' : 'none';\n",
              "\n",
              "      async function convertToInteractive(key) {\n",
              "        const element = document.querySelector('#df-1d49e56a-59c1-402d-9848-1c1a7281d00b');\n",
              "        const dataTable =\n",
              "          await google.colab.kernel.invokeFunction('convertToInteractive',\n",
              "                                                    [key], {});\n",
              "        if (!dataTable) return;\n",
              "\n",
              "        const docLinkHtml = 'Like what you see? Visit the ' +\n",
              "          '<a target=\"_blank\" href=https://colab.research.google.com/notebooks/data_table.ipynb>data table notebook</a>'\n",
              "          + ' to learn more about interactive tables.';\n",
              "        element.innerHTML = '';\n",
              "        dataTable['output_type'] = 'display_data';\n",
              "        await google.colab.output.renderOutput(dataTable, element);\n",
              "        const docLink = document.createElement('div');\n",
              "        docLink.innerHTML = docLinkHtml;\n",
              "        element.appendChild(docLink);\n",
              "      }\n",
              "    </script>\n",
              "  </div>\n",
              "\n",
              "\n",
              "    <div id=\"df-bc1188dc-3ea1-4c76-9765-a8e5ee8a2d58\">\n",
              "      <button class=\"colab-df-quickchart\" onclick=\"quickchart('df-bc1188dc-3ea1-4c76-9765-a8e5ee8a2d58')\"\n",
              "                title=\"Suggest charts\"\n",
              "                style=\"display:none;\">\n",
              "\n",
              "<svg xmlns=\"http://www.w3.org/2000/svg\" height=\"24px\"viewBox=\"0 0 24 24\"\n",
              "     width=\"24px\">\n",
              "    <g>\n",
              "        <path d=\"M19 3H5c-1.1 0-2 .9-2 2v14c0 1.1.9 2 2 2h14c1.1 0 2-.9 2-2V5c0-1.1-.9-2-2-2zM9 17H7v-7h2v7zm4 0h-2V7h2v10zm4 0h-2v-4h2v4z\"/>\n",
              "    </g>\n",
              "</svg>\n",
              "      </button>\n",
              "\n",
              "<style>\n",
              "  .colab-df-quickchart {\n",
              "      --bg-color: #E8F0FE;\n",
              "      --fill-color: #1967D2;\n",
              "      --hover-bg-color: #E2EBFA;\n",
              "      --hover-fill-color: #174EA6;\n",
              "      --disabled-fill-color: #AAA;\n",
              "      --disabled-bg-color: #DDD;\n",
              "  }\n",
              "\n",
              "  [theme=dark] .colab-df-quickchart {\n",
              "      --bg-color: #3B4455;\n",
              "      --fill-color: #D2E3FC;\n",
              "      --hover-bg-color: #434B5C;\n",
              "      --hover-fill-color: #FFFFFF;\n",
              "      --disabled-bg-color: #3B4455;\n",
              "      --disabled-fill-color: #666;\n",
              "  }\n",
              "\n",
              "  .colab-df-quickchart {\n",
              "    background-color: var(--bg-color);\n",
              "    border: none;\n",
              "    border-radius: 50%;\n",
              "    cursor: pointer;\n",
              "    display: none;\n",
              "    fill: var(--fill-color);\n",
              "    height: 32px;\n",
              "    padding: 0;\n",
              "    width: 32px;\n",
              "  }\n",
              "\n",
              "  .colab-df-quickchart:hover {\n",
              "    background-color: var(--hover-bg-color);\n",
              "    box-shadow: 0 1px 2px rgba(60, 64, 67, 0.3), 0 1px 3px 1px rgba(60, 64, 67, 0.15);\n",
              "    fill: var(--button-hover-fill-color);\n",
              "  }\n",
              "\n",
              "  .colab-df-quickchart-complete:disabled,\n",
              "  .colab-df-quickchart-complete:disabled:hover {\n",
              "    background-color: var(--disabled-bg-color);\n",
              "    fill: var(--disabled-fill-color);\n",
              "    box-shadow: none;\n",
              "  }\n",
              "\n",
              "  .colab-df-spinner {\n",
              "    border: 2px solid var(--fill-color);\n",
              "    border-color: transparent;\n",
              "    border-bottom-color: var(--fill-color);\n",
              "    animation:\n",
              "      spin 1s steps(1) infinite;\n",
              "  }\n",
              "\n",
              "  @keyframes spin {\n",
              "    0% {\n",
              "      border-color: transparent;\n",
              "      border-bottom-color: var(--fill-color);\n",
              "      border-left-color: var(--fill-color);\n",
              "    }\n",
              "    20% {\n",
              "      border-color: transparent;\n",
              "      border-left-color: var(--fill-color);\n",
              "      border-top-color: var(--fill-color);\n",
              "    }\n",
              "    30% {\n",
              "      border-color: transparent;\n",
              "      border-left-color: var(--fill-color);\n",
              "      border-top-color: var(--fill-color);\n",
              "      border-right-color: var(--fill-color);\n",
              "    }\n",
              "    40% {\n",
              "      border-color: transparent;\n",
              "      border-right-color: var(--fill-color);\n",
              "      border-top-color: var(--fill-color);\n",
              "    }\n",
              "    60% {\n",
              "      border-color: transparent;\n",
              "      border-right-color: var(--fill-color);\n",
              "    }\n",
              "    80% {\n",
              "      border-color: transparent;\n",
              "      border-right-color: var(--fill-color);\n",
              "      border-bottom-color: var(--fill-color);\n",
              "    }\n",
              "    90% {\n",
              "      border-color: transparent;\n",
              "      border-bottom-color: var(--fill-color);\n",
              "    }\n",
              "  }\n",
              "</style>\n",
              "\n",
              "      <script>\n",
              "        async function quickchart(key) {\n",
              "          const quickchartButtonEl =\n",
              "            document.querySelector('#' + key + ' button');\n",
              "          quickchartButtonEl.disabled = true;  // To prevent multiple clicks.\n",
              "          quickchartButtonEl.classList.add('colab-df-spinner');\n",
              "          try {\n",
              "            const charts = await google.colab.kernel.invokeFunction(\n",
              "                'suggestCharts', [key], {});\n",
              "          } catch (error) {\n",
              "            console.error('Error during call to suggestCharts:', error);\n",
              "          }\n",
              "          quickchartButtonEl.classList.remove('colab-df-spinner');\n",
              "          quickchartButtonEl.classList.add('colab-df-quickchart-complete');\n",
              "        }\n",
              "        (() => {\n",
              "          let quickchartButtonEl =\n",
              "            document.querySelector('#df-bc1188dc-3ea1-4c76-9765-a8e5ee8a2d58 button');\n",
              "          quickchartButtonEl.style.display =\n",
              "            google.colab.kernel.accessAllowed ? 'block' : 'none';\n",
              "        })();\n",
              "      </script>\n",
              "    </div>\n",
              "\n",
              "  <div id=\"id_9809a4c1-5040-4026-9023-a9d6e3df6672\">\n",
              "    <style>\n",
              "      .colab-df-generate {\n",
              "        background-color: #E8F0FE;\n",
              "        border: none;\n",
              "        border-radius: 50%;\n",
              "        cursor: pointer;\n",
              "        display: none;\n",
              "        fill: #1967D2;\n",
              "        height: 32px;\n",
              "        padding: 0 0 0 0;\n",
              "        width: 32px;\n",
              "      }\n",
              "\n",
              "      .colab-df-generate:hover {\n",
              "        background-color: #E2EBFA;\n",
              "        box-shadow: 0px 1px 2px rgba(60, 64, 67, 0.3), 0px 1px 3px 1px rgba(60, 64, 67, 0.15);\n",
              "        fill: #174EA6;\n",
              "      }\n",
              "\n",
              "      [theme=dark] .colab-df-generate {\n",
              "        background-color: #3B4455;\n",
              "        fill: #D2E3FC;\n",
              "      }\n",
              "\n",
              "      [theme=dark] .colab-df-generate:hover {\n",
              "        background-color: #434B5C;\n",
              "        box-shadow: 0px 1px 3px 1px rgba(0, 0, 0, 0.15);\n",
              "        filter: drop-shadow(0px 1px 2px rgba(0, 0, 0, 0.3));\n",
              "        fill: #FFFFFF;\n",
              "      }\n",
              "    </style>\n",
              "    <button class=\"colab-df-generate\" onclick=\"generateWithVariable('performance')\"\n",
              "            title=\"Generate code using this dataframe.\"\n",
              "            style=\"display:none;\">\n",
              "\n",
              "  <svg xmlns=\"http://www.w3.org/2000/svg\" height=\"24px\"viewBox=\"0 0 24 24\"\n",
              "       width=\"24px\">\n",
              "    <path d=\"M7,19H8.4L18.45,9,17,7.55,7,17.6ZM5,21V16.75L18.45,3.32a2,2,0,0,1,2.83,0l1.4,1.43a1.91,1.91,0,0,1,.58,1.4,1.91,1.91,0,0,1-.58,1.4L9.25,21ZM18.45,9,17,7.55Zm-12,3A5.31,5.31,0,0,0,4.9,8.1,5.31,5.31,0,0,0,1,6.5,5.31,5.31,0,0,0,4.9,4.9,5.31,5.31,0,0,0,6.5,1,5.31,5.31,0,0,0,8.1,4.9,5.31,5.31,0,0,0,12,6.5,5.46,5.46,0,0,0,6.5,12Z\"/>\n",
              "  </svg>\n",
              "    </button>\n",
              "    <script>\n",
              "      (() => {\n",
              "      const buttonEl =\n",
              "        document.querySelector('#id_9809a4c1-5040-4026-9023-a9d6e3df6672 button.colab-df-generate');\n",
              "      buttonEl.style.display =\n",
              "        google.colab.kernel.accessAllowed ? 'block' : 'none';\n",
              "\n",
              "      buttonEl.onclick = () => {\n",
              "        google.colab.notebook.generateWithVariable('performance');\n",
              "      }\n",
              "      })();\n",
              "    </script>\n",
              "  </div>\n",
              "\n",
              "    </div>\n",
              "  </div>\n"
            ],
            "application/vnd.google.colaboratory.intrinsic+json": {
              "type": "dataframe",
              "variable_name": "performance",
              "summary": "{\n  \"name\": \"performance\",\n  \"rows\": 3,\n  \"fields\": [\n    {\n      \"column\": \"Model\",\n      \"properties\": {\n        \"dtype\": \"string\",\n        \"num_unique_values\": 3,\n        \"samples\": [\n          \"SimpleRNN\",\n          \"LSTM\",\n          \"GRU\"\n        ],\n        \"semantic_type\": \"\",\n        \"description\": \"\"\n      }\n    },\n    {\n      \"column\": \"RMSE\",\n      \"properties\": {\n        \"dtype\": \"number\",\n        \"std\": 23.530721989361975,\n        \"min\": 17.4638900957201,\n        \"max\": 61.79339038848026,\n        \"num_unique_values\": 3,\n        \"samples\": [\n          17.4638900957201,\n          25.94448207041998,\n          61.79339038848026\n        ],\n        \"semantic_type\": \"\",\n        \"description\": \"\"\n      }\n    },\n    {\n      \"column\": \"MAE\",\n      \"properties\": {\n        \"dtype\": \"number\",\n        \"std\": 20.289957601870306,\n        \"min\": 14.620638847351074,\n        \"max\": 52.469966888427734,\n        \"num_unique_values\": 3,\n        \"samples\": [\n          14.620638847351074,\n          20.87177085876465,\n          52.469966888427734\n        ],\n        \"semantic_type\": \"\",\n        \"description\": \"\"\n      }\n    },\n    {\n      \"column\": \"MAPE(%)\",\n      \"properties\": {\n        \"dtype\": \"float32\",\n        \"num_unique_values\": 3,\n        \"samples\": [\n          1.676584005355835,\n          2.440859317779541,\n          6.014298439025879\n        ],\n        \"semantic_type\": \"\",\n        \"description\": \"\"\n      }\n    }\n  ]\n}"
            }
          },
          "metadata": {}
        }
      ]
    },
    {
      "cell_type": "code",
      "source": [
        "# We'll collect corresponding dates for test y\n",
        "test_start_idx = WINDOW + n_val  # index in original series where test predictions start\n",
        "test_dates = series.index[test_start_idx:test_start_idx + len(y_test)]\n",
        "\n",
        "plt.figure(figsize=(12,5))\n",
        "plt.plot(test_dates, inverse_transform_preds(y_test), label='Actual')\n",
        "plt.plot(test_dates, inverse_transform_preds(pred_rnn_test), label='RNN Predicted')\n",
        "plt.plot(test_dates, inverse_transform_preds(pred_lstm_test), label='LSTM Predicted')\n",
        "plt.plot(test_dates, inverse_transform_preds(pred_gru_test), label='GRU Predicted')\n",
        "plt.title(\"Test Set: Actual vs Predicted (All models)\")\n",
        "plt.xlabel(\"Date\")\n",
        "plt.ylabel(prod_col)\n",
        "plt.legend()\n",
        "plt.grid(True)\n",
        "plt.show()"
      ],
      "metadata": {
        "colab": {
          "base_uri": "https://localhost:8080/",
          "height": 302
        },
        "id": "R5TUPqPFnCKz",
        "outputId": "5d1a0330-63b0-45d8-99e9-7c1f19647edc"
      },
      "execution_count": 37,
      "outputs": [
        {
          "output_type": "display_data",
          "data": {
            "text/plain": [
              "<Figure size 1200x500 with 1 Axes>"
            ],
            "image/png": "[encoded data removed]"
          },
          "metadata": {}
        }
      ]
    },
    {
      "cell_type": "markdown",
      "source": [
        "# Step 5: Forecasting next 12 months"
      ],
      "metadata": {
        "id": "Kq4BnIxhniIW"
      }
    },
    {
      "cell_type": "code",
      "source": [
        "# We'll use the best-performing model by RMSE (on test) to forecast next 12 months iteratively.\n",
        "best_idx = performance['RMSE'].idxmin()\n",
        "best_model_name = performance.loc[best_idx, 'Model']\n",
        "print(f\"\\nBest model by RMSE on test set: {best_model_name}\")\n",
        "\n",
        "best_model = {\"SimpleRNN\": rnn_model, \"LSTM\": lstm_model, \"GRU\": gru_model}[best_model_name]\n"
      ],
      "metadata": {
        "colab": {
          "base_uri": "https://localhost:8080/"
        },
        "id": "-ZU4JcxenlN5",
        "outputId": "cb68052c-5b95-4394-d118-af7667e48860"
      },
      "execution_count": 38,
      "outputs": [
        {
          "output_type": "stream",
          "name": "stdout",
          "text": [
            "\n",
            "Best model by RMSE on test set: SimpleRNN\n"
          ]
        }
      ]
    },
    {
      "cell_type": "code",
      "source": [
        "# For forecasting, start from the last WINDOW values from the full series_scaled\n",
        "last_window = series_scaled[-WINDOW:].reshape(1, WINDOW, 1)\n",
        "forecast_horizon = 12\n",
        "forecast_scaled = []\n",
        "\n",
        "current_input = last_window.copy()\n",
        "for i in range(forecast_horizon):\n",
        "    next_scaled = best_model.predict(current_input)[0,0]\n",
        "    forecast_scaled.append(next_scaled)\n",
        "    # slide window: drop first and append predicted\n",
        "    new_input = np.concatenate([current_input.flatten()[1:], [next_scaled]])\n",
        "    current_input = new_input.reshape(1, WINDOW, 1)\n",
        "\n",
        "forecast = inverse_transform_preds(forecast_scaled)"
      ],
      "metadata": {
        "colab": {
          "base_uri": "https://localhost:8080/"
        },
        "id": "padJJLkkngEb",
        "outputId": "78dcdcac-8b8a-4378-a282-4efaa147729f"
      },
      "execution_count": 39,
      "outputs": [
        {
          "output_type": "stream",
          "name": "stdout",
          "text": [
            "\u001b[1m1/1\u001b[0m \u001b[32m━━━━━━━━━━━━━━━━━━━━\u001b[0m\u001b[37m\u001b[0m \u001b[1m0s\u001b[0m 230ms/step\n",
            "\u001b[1m1/1\u001b[0m \u001b[32m━━━━━━━━━━━━━━━━━━━━\u001b[0m\u001b[37m\u001b[0m \u001b[1m0s\u001b[0m 150ms/step\n",
            "\u001b[1m1/1\u001b[0m \u001b[32m━━━━━━━━━━━━━━━━━━━━\u001b[0m\u001b[37m\u001b[0m \u001b[1m0s\u001b[0m 65ms/step\n",
            "\u001b[1m1/1\u001b[0m \u001b[32m━━━━━━━━━━━━━━━━━━━━\u001b[0m\u001b[37m\u001b[0m \u001b[1m0s\u001b[0m 64ms/step\n",
            "\u001b[1m1/1\u001b[0m \u001b[32m━━━━━━━━━━━━━━━━━━━━\u001b[0m\u001b[37m\u001b[0m \u001b[1m0s\u001b[0m 129ms/step\n",
            "\u001b[1m1/1\u001b[0m \u001b[32m━━━━━━━━━━━━━━━━━━━━\u001b[0m\u001b[37m\u001b[0m \u001b[1m0s\u001b[0m 91ms/step\n",
            "\u001b[1m1/1\u001b[0m \u001b[32m━━━━━━━━━━━━━━━━━━━━\u001b[0m\u001b[37m\u001b[0m \u001b[1m0s\u001b[0m 37ms/step\n",
            "\u001b[1m1/1\u001b[0m \u001b[32m━━━━━━━━━━━━━━━━━━━━\u001b[0m\u001b[37m\u001b[0m \u001b[1m0s\u001b[0m 40ms/step\n",
            "\u001b[1m1/1\u001b[0m \u001b[32m━━━━━━━━━━━━━━━━━━━━\u001b[0m\u001b[37m\u001b[0m \u001b[1m0s\u001b[0m 38ms/step\n",
            "\u001b[1m1/1\u001b[0m \u001b[32m━━━━━━━━━━━━━━━━━━━━\u001b[0m\u001b[37m\u001b[0m \u001b[1m0s\u001b[0m 38ms/step\n",
            "\u001b[1m1/1\u001b[0m \u001b[32m━━━━━━━━━━━━━━━━━━━━\u001b[0m\u001b[37m\u001b[0m \u001b[1m0s\u001b[0m 40ms/step\n",
            "\u001b[1m1/1\u001b[0m \u001b[32m━━━━━━━━━━━━━━━━━━━━\u001b[0m\u001b[37m\u001b[0m \u001b[1m0s\u001b[0m 38ms/step\n"
          ]
        }
      ]
    },
    {
      "cell_type": "code",
      "source": [
        "# Create forecast index (monthly) starting after last observed date\n",
        "last_date = series.index[-1]\n",
        "forecast_index = pd.date_range(start=last_date + pd.offsets.MonthBegin(1), periods=forecast_horizon, freq='MS')\n",
        "\n",
        "forecast_df = pd.DataFrame({\"Forecast\": forecast}, index=forecast_index)\n",
        "display(forecast_df)"
      ],
      "metadata": {
        "colab": {
          "base_uri": "https://localhost:8080/",
          "height": 425
        },
        "id": "IjxUnqMYnpZr",
        "outputId": "9077319a-2002-4801-acb1-9dd7dfbc4830"
      },
      "execution_count": 41,
      "outputs": [
        {
          "output_type": "display_data",
          "data": {
            "text/plain": [
              "              Forecast\n",
              "2014-01-01  832.973633\n",
              "2014-02-01  811.187500\n",
              "2014-03-01  880.631958\n",
              "2014-04-01  881.864075\n",
              "2014-05-01  934.456665\n",
              "2014-06-01  917.347168\n",
              "2014-07-01  893.179688\n",
              "2014-08-01  868.755249\n",
              "2014-09-01  828.980469\n",
              "2014-10-01  839.943665\n",
              "2014-11-01  814.917053\n",
              "2014-12-01  840.629517"
            ],
            "text/html": [
              "\n",
              "  <div id=\"df-f974af65-3293-4af9-afb4-586cccb8035e\" class=\"colab-df-container\">\n",
              "    <div>\n",
              "<style scoped>\n",
              "    .dataframe tbody tr th:only-of-type {\n",
              "        vertical-align: middle;\n",
              "    }\n",
              "\n",
              "    .dataframe tbody tr th {\n",
              "        vertical-align: top;\n",
              "    }\n",
              "\n",
              "    .dataframe thead th {\n",
              "        text-align: right;\n",
              "    }\n",
              "</style>\n",
              "<table border=\"1\" class=\"dataframe\">\n",
              "  <thead>\n",
              "    <tr style=\"text-align: right;\">\n",
              "      <th></th>\n",
              "      <th>Forecast</th>\n",
              "    </tr>\n",
              "  </thead>\n",
              "  <tbody>\n",
              "    <tr>\n",
              "      <th>2014-01-01</th>\n",
              "      <td>832.973633</td>\n",
              "    </tr>\n",
              "    <tr>\n",
              "      <th>2014-02-01</th>\n",
              "      <td>811.187500</td>\n",
              "    </tr>\n",
              "    <tr>\n",
              "      <th>2014-03-01</th>\n",
              "      <td>880.631958</td>\n",
              "    </tr>\n",
              "    <tr>\n",
              "      <th>2014-04-01</th>\n",
              "      <td>881.864075</td>\n",
              "    </tr>\n",
              "    <tr>\n",
              "      <th>2014-05-01</th>\n",
              "      <td>934.456665</td>\n",
              "    </tr>\n",
              "    <tr>\n",
              "      <th>2014-06-01</th>\n",
              "      <td>917.347168</td>\n",
              "    </tr>\n",
              "    <tr>\n",
              "      <th>2014-07-01</th>\n",
              "      <td>893.179688</td>\n",
              "    </tr>\n",
              "    <tr>\n",
              "      <th>2014-08-01</th>\n",
              "      <td>868.755249</td>\n",
              "    </tr>\n",
              "    <tr>\n",
              "      <th>2014-09-01</th>\n",
              "      <td>828.980469</td>\n",
              "    </tr>\n",
              "    <tr>\n",
              "      <th>2014-10-01</th>\n",
              "      <td>839.943665</td>\n",
              "    </tr>\n",
              "    <tr>\n",
              "      <th>2014-11-01</th>\n",
              "      <td>814.917053</td>\n",
              "    </tr>\n",
              "    <tr>\n",
              "      <th>2014-12-01</th>\n",
              "      <td>840.629517</td>\n",
              "    </tr>\n",
              "  </tbody>\n",
              "</table>\n",
              "</div>\n",
              "    <div class=\"colab-df-buttons\">\n",
              "\n",
              "  <div class=\"colab-df-container\">\n",
              "    <button class=\"colab-df-convert\" onclick=\"convertToInteractive('df-f974af65-3293-4af9-afb4-586cccb8035e')\"\n",
              "            title=\"Convert this dataframe to an interactive table.\"\n",
              "            style=\"display:none;\">\n",
              "\n",
              "  <svg xmlns=\"http://www.w3.org/2000/svg\" height=\"24px\" viewBox=\"0 -960 960 960\">\n",
              "    <path d=\"M120-120v-720h720v720H120Zm60-500h600v-160H180v160Zm220 220h160v-160H400v160Zm0 220h160v-160H400v160ZM180-400h160v-160H180v160Zm440 0h160v-160H620v160ZM180-180h160v-160H180v160Zm440 0h160v-160H620v160Z\"/>\n",
              "  </svg>\n",
              "    </button>\n",
              "\n",
              "  <style>\n",
              "    .colab-df-container {\n",
              "      display:flex;\n",
              "      gap: 12px;\n",
              "    }\n",
              "\n",
              "    .colab-df-convert {\n",
              "      background-color: #E8F0FE;\n",
              "      border: none;\n",
              "      border-radius: 50%;\n",
              "      cursor: pointer;\n",
              "      display: none;\n",
              "      fill: #1967D2;\n",
              "      height: 32px;\n",
              "      padding: 0 0 0 0;\n",
              "      width: 32px;\n",
              "    }\n",
              "\n",
              "    .colab-df-convert:hover {\n",
              "      background-color: #E2EBFA;\n",
              "      box-shadow: 0px 1px 2px rgba(60, 64, 67, 0.3), 0px 1px 3px 1px rgba(60, 64, 67, 0.15);\n",
              "      fill: #174EA6;\n",
              "    }\n",
              "\n",
              "    .colab-df-buttons div {\n",
              "      margin-bottom: 4px;\n",
              "    }\n",
              "\n",
              "    [theme=dark] .colab-df-convert {\n",
              "      background-color: #3B4455;\n",
              "      fill: #D2E3FC;\n",
              "    }\n",
              "\n",
              "    [theme=dark] .colab-df-convert:hover {\n",
              "      background-color: #434B5C;\n",
              "      box-shadow: 0px 1px 3px 1px rgba(0, 0, 0, 0.15);\n",
              "      filter: drop-shadow(0px 1px 2px rgba(0, 0, 0, 0.3));\n",
              "      fill: #FFFFFF;\n",
              "    }\n",
              "  </style>\n",
              "\n",
              "    <script>\n",
              "      const buttonEl =\n",
              "        document.querySelector('#df-f974af65-3293-4af9-afb4-586cccb8035e button.colab-df-convert');\n",
              "      buttonEl.style.display =\n",
              "        google.colab.kernel.accessAllowed ? 'block' : 'none';\n",
              "\n",
              "      async function convertToInteractive(key) {\n",
              "        const element = document.querySelector('#df-f974af65-3293-4af9-afb4-586cccb8035e');\n",
              "        const dataTable =\n",
              "          await google.colab.kernel.invokeFunction('convertToInteractive',\n",
              "                                                    [key], {});\n",
              "        if (!dataTable) return;\n",
              "\n",
              "        const docLinkHtml = 'Like what you see? Visit the ' +\n",
              "          '<a target=\"_blank\" href=https://colab.research.google.com/notebooks/data_table.ipynb>data table notebook</a>'\n",
              "          + ' to learn more about interactive tables.';\n",
              "        element.innerHTML = '';\n",
              "        dataTable['output_type'] = 'display_data';\n",
              "        await google.colab.output.renderOutput(dataTable, element);\n",
              "        const docLink = document.createElement('div');\n",
              "        docLink.innerHTML = docLinkHtml;\n",
              "        element.appendChild(docLink);\n",
              "      }\n",
              "    </script>\n",
              "  </div>\n",
              "\n",
              "\n",
              "    <div id=\"df-51feeb0e-d0fb-42b4-823f-f3cd6365e3a8\">\n",
              "      <button class=\"colab-df-quickchart\" onclick=\"quickchart('df-51feeb0e-d0fb-42b4-823f-f3cd6365e3a8')\"\n",
              "                title=\"Suggest charts\"\n",
              "                style=\"display:none;\">\n",
              "\n",
              "<svg xmlns=\"http://www.w3.org/2000/svg\" height=\"24px\"viewBox=\"0 0 24 24\"\n",
              "     width=\"24px\">\n",
              "    <g>\n",
              "        <path d=\"M19 3H5c-1.1 0-2 .9-2 2v14c0 1.1.9 2 2 2h14c1.1 0 2-.9 2-2V5c0-1.1-.9-2-2-2zM9 17H7v-7h2v7zm4 0h-2V7h2v10zm4 0h-2v-4h2v4z\"/>\n",
              "    </g>\n",
              "</svg>\n",
              "      </button>\n",
              "\n",
              "<style>\n",
              "  .colab-df-quickchart {\n",
              "      --bg-color: #E8F0FE;\n",
              "      --fill-color: #1967D2;\n",
              "      --hover-bg-color: #E2EBFA;\n",
              "      --hover-fill-color: #174EA6;\n",
              "      --disabled-fill-color: #AAA;\n",
              "      --disabled-bg-color: #DDD;\n",
              "  }\n",
              "\n",
              "  [theme=dark] .colab-df-quickchart {\n",
              "      --bg-color: #3B4455;\n",
              "      --fill-color: #D2E3FC;\n",
              "      --hover-bg-color: #434B5C;\n",
              "      --hover-fill-color: #FFFFFF;\n",
              "      --disabled-bg-color: #3B4455;\n",
              "      --disabled-fill-color: #666;\n",
              "  }\n",
              "\n",
              "  .colab-df-quickchart {\n",
              "    background-color: var(--bg-color);\n",
              "    border: none;\n",
              "    border-radius: 50%;\n",
              "    cursor: pointer;\n",
              "    display: none;\n",
              "    fill: var(--fill-color);\n",
              "    height: 32px;\n",
              "    padding: 0;\n",
              "    width: 32px;\n",
              "  }\n",
              "\n",
              "  .colab-df-quickchart:hover {\n",
              "    background-color: var(--hover-bg-color);\n",
              "    box-shadow: 0 1px 2px rgba(60, 64, 67, 0.3), 0 1px 3px 1px rgba(60, 64, 67, 0.15);\n",
              "    fill: var(--button-hover-fill-color);\n",
              "  }\n",
              "\n",
              "  .colab-df-quickchart-complete:disabled,\n",
              "  .colab-df-quickchart-complete:disabled:hover {\n",
              "    background-color: var(--disabled-bg-color);\n",
              "    fill: var(--disabled-fill-color);\n",
              "    box-shadow: none;\n",
              "  }\n",
              "\n",
              "  .colab-df-spinner {\n",
              "    border: 2px solid var(--fill-color);\n",
              "    border-color: transparent;\n",
              "    border-bottom-color: var(--fill-color);\n",
              "    animation:\n",
              "      spin 1s steps(1) infinite;\n",
              "  }\n",
              "\n",
              "  @keyframes spin {\n",
              "    0% {\n",
              "      border-color: transparent;\n",
              "      border-bottom-color: var(--fill-color);\n",
              "      border-left-color: var(--fill-color);\n",
              "    }\n",
              "    20% {\n",
              "      border-color: transparent;\n",
              "      border-left-color: var(--fill-color);\n",
              "      border-top-color: var(--fill-color);\n",
              "    }\n",
              "    30% {\n",
              "      border-color: transparent;\n",
              "      border-left-color: var(--fill-color);\n",
              "      border-top-color: var(--fill-color);\n",
              "      border-right-color: var(--fill-color);\n",
              "    }\n",
              "    40% {\n",
              "      border-color: transparent;\n",
              "      border-right-color: var(--fill-color);\n",
              "      border-top-color: var(--fill-color);\n",
              "    }\n",
              "    60% {\n",
              "      border-color: transparent;\n",
              "      border-right-color: var(--fill-color);\n",
              "    }\n",
              "    80% {\n",
              "      border-color: transparent;\n",
              "      border-right-color: var(--fill-color);\n",
              "      border-bottom-color: var(--fill-color);\n",
              "    }\n",
              "    90% {\n",
              "      border-color: transparent;\n",
              "      border-bottom-color: var(--fill-color);\n",
              "    }\n",
              "  }\n",
              "</style>\n",
              "\n",
              "      <script>\n",
              "        async function quickchart(key) {\n",
              "          const quickchartButtonEl =\n",
              "            document.querySelector('#' + key + ' button');\n",
              "          quickchartButtonEl.disabled = true;  // To prevent multiple clicks.\n",
              "          quickchartButtonEl.classList.add('colab-df-spinner');\n",
              "          try {\n",
              "            const charts = await google.colab.kernel.invokeFunction(\n",
              "                'suggestCharts', [key], {});\n",
              "          } catch (error) {\n",
              "            console.error('Error during call to suggestCharts:', error);\n",
              "          }\n",
              "          quickchartButtonEl.classList.remove('colab-df-spinner');\n",
              "          quickchartButtonEl.classList.add('colab-df-quickchart-complete');\n",
              "        }\n",
              "        (() => {\n",
              "          let quickchartButtonEl =\n",
              "            document.querySelector('#df-51feeb0e-d0fb-42b4-823f-f3cd6365e3a8 button');\n",
              "          quickchartButtonEl.style.display =\n",
              "            google.colab.kernel.accessAllowed ? 'block' : 'none';\n",
              "        })();\n",
              "      </script>\n",
              "    </div>\n",
              "\n",
              "  <div id=\"id_a7b67204-94d6-45c6-bb62-72e83ffb2308\">\n",
              "    <style>\n",
              "      .colab-df-generate {\n",
              "        background-color: #E8F0FE;\n",
              "        border: none;\n",
              "        border-radius: 50%;\n",
              "        cursor: pointer;\n",
              "        display: none;\n",
              "        fill: #1967D2;\n",
              "        height: 32px;\n",
              "        padding: 0 0 0 0;\n",
              "        width: 32px;\n",
              "      }\n",
              "\n",
              "      .colab-df-generate:hover {\n",
              "        background-color: #E2EBFA;\n",
              "        box-shadow: 0px 1px 2px rgba(60, 64, 67, 0.3), 0px 1px 3px 1px rgba(60, 64, 67, 0.15);\n",
              "        fill: #174EA6;\n",
              "      }\n",
              "\n",
              "      [theme=dark] .colab-df-generate {\n",
              "        background-color: #3B4455;\n",
              "        fill: #D2E3FC;\n",
              "      }\n",
              "\n",
              "      [theme=dark] .colab-df-generate:hover {\n",
              "        background-color: #434B5C;\n",
              "        box-shadow: 0px 1px 3px 1px rgba(0, 0, 0, 0.15);\n",
              "        filter: drop-shadow(0px 1px 2px rgba(0, 0, 0, 0.3));\n",
              "        fill: #FFFFFF;\n",
              "      }\n",
              "    </style>\n",
              "    <button class=\"colab-df-generate\" onclick=\"generateWithVariable('forecast_df')\"\n",
              "            title=\"Generate code using this dataframe.\"\n",
              "            style=\"display:none;\">\n",
              "\n",
              "  <svg xmlns=\"http://www.w3.org/2000/svg\" height=\"24px\"viewBox=\"0 0 24 24\"\n",
              "       width=\"24px\">\n",
              "    <path d=\"M7,19H8.4L18.45,9,17,7.55,7,17.6ZM5,21V16.75L18.45,3.32a2,2,0,0,1,2.83,0l1.4,1.43a1.91,1.91,0,0,1,.58,1.4,1.91,1.91,0,0,1-.58,1.4L9.25,21ZM18.45,9,17,7.55Zm-12,3A5.31,5.31,0,0,0,4.9,8.1,5.31,5.31,0,0,0,1,6.5,5.31,5.31,0,0,0,4.9,4.9,5.31,5.31,0,0,0,6.5,1,5.31,5.31,0,0,0,8.1,4.9,5.31,5.31,0,0,0,12,6.5,5.46,5.46,0,0,0,6.5,12Z\"/>\n",
              "  </svg>\n",
              "    </button>\n",
              "    <script>\n",
              "      (() => {\n",
              "      const buttonEl =\n",
              "        document.querySelector('#id_a7b67204-94d6-45c6-bb62-72e83ffb2308 button.colab-df-generate');\n",
              "      buttonEl.style.display =\n",
              "        google.colab.kernel.accessAllowed ? 'block' : 'none';\n",
              "\n",
              "      buttonEl.onclick = () => {\n",
              "        google.colab.notebook.generateWithVariable('forecast_df');\n",
              "      }\n",
              "      })();\n",
              "    </script>\n",
              "  </div>\n",
              "\n",
              "    </div>\n",
              "  </div>\n"
            ],
            "application/vnd.google.colaboratory.intrinsic+json": {
              "type": "dataframe",
              "variable_name": "forecast_df",
              "summary": "{\n  \"name\": \"forecast_df\",\n  \"rows\": 12,\n  \"fields\": [\n    {\n      \"column\": \"Forecast\",\n      \"properties\": {\n        \"dtype\": \"float32\",\n        \"num_unique_values\": 12,\n        \"samples\": [\n          814.9170532226562,\n          839.9436645507812,\n          832.9736328125\n        ],\n        \"semantic_type\": \"\",\n        \"description\": \"\"\n      }\n    }\n  ]\n}"
            }
          },
          "metadata": {}
        }
      ]
    },
    {
      "cell_type": "code",
      "source": [
        "# Plot full series + forecast\n",
        "plt.figure(figsize=(12,5))\n",
        "plt.plot(series.index, series.values, label='Historical')\n",
        "plt.plot(forecast_df.index, forecast_df['Forecast'], label=f'Forecast ({best_model_name})')\n",
        "plt.title(\"Historical Milk Production and 12-Month Forecast\")\n",
        "plt.xlabel(\"Date\")\n",
        "plt.ylabel(prod_col)\n",
        "plt.legend()\n",
        "plt.grid(True)\n",
        "plt.show()"
      ],
      "metadata": {
        "colab": {
          "base_uri": "https://localhost:8080/",
          "height": 302
        },
        "id": "fb4xuvM2ns8E",
        "outputId": "5e954c42-33f6-4e6d-d50c-b6834681e4e7"
      },
      "execution_count": 42,
      "outputs": [
        {
          "output_type": "display_data",
          "data": {
            "text/plain": [
              "<Figure size 1200x500 with 1 Axes>"
            ],
            "image/png": "[encoded data removed]"
          },
          "metadata": {}
        }
      ]
    },
    {
      "cell_type": "markdown",
      "source": [
        "# Step 6: Business insights (printed summary)"
      ],
      "metadata": {
        "id": "L20YI2bLn1zz"
      }
    },
    {
      "cell_type": "code",
      "source": [
        "print(\"\\nBusiness insights / Recommendations (auto-generated):\")\n",
        "print(\"- Use the 12-month forecast to plan inventory, storage capacity and procurement.\")\n",
        "print(\"- If the series shows seasonality, align staffing and distribution to high/low months.\")\n",
        "print(\"- Monitor model performance over time and retrain periodically (e.g., every 3-6 months) with new data.\")\n",
        "print(\"- Consider adding exogenous variables (feed costs, weather, holidays) to improve accuracy if available.\")\n",
        "\n",
        "# Save forecast to CSV so user can download\n",
        "forecast_csv_path = \"/mnt/data/monthly_milk_production_forecast_12months.csv\"\n",
        "forecast_df.to_csv(forecast_csv_path)\n",
        "print(f\"\\nForecast CSV saved to: {forecast_csv_path}\")\n",
        "\n",
        "# Also save performance table\n",
        "perf_csv = \"/mnt/data/milk_models_performance.csv\"\n",
        "performance.to_csv(perf_csv, index=False)\n",
        "print(f\"Performance CSV saved to: {perf_csv}\")\n",
        "\n",
        "# Final short summary\n",
        "print(\"\\nDone. The notebook performed EDA, trained SimpleRNN/LSTM/GRU, evaluated them, and produced a 12-month forecast.\")\n",
        "print(\"Files saved in /mnt/data/:\")\n",
        "for f in [\"monthly_milk_production_forecast_12months.csv\", \"milk_models_performance.csv\"]:\n",
        "    print(\" -\", f)"
      ],
      "metadata": {
        "colab": {
          "base_uri": "https://localhost:8080/"
        },
        "id": "PXa4yzXBnzUE",
        "outputId": "0991725d-3bce-4cd3-be0c-9dcd476e5efb"
      },
      "execution_count": 43,
      "outputs": [
        {
          "output_type": "stream",
          "name": "stdout",
          "text": [
            "\n",
            "Business insights / Recommendations (auto-generated):\n",
            "- Use the 12-month forecast to plan inventory, storage capacity and procurement.\n",
            "- If the series shows seasonality, align staffing and distribution to high/low months.\n",
            "- Monitor model performance over time and retrain periodically (e.g., every 3-6 months) with new data.\n",
            "- Consider adding exogenous variables (feed costs, weather, holidays) to improve accuracy if available.\n",
            "\n",
            "Forecast CSV saved to: /mnt/data/monthly_milk_production_forecast_12months.csv\n",
            "Performance CSV saved to: /mnt/data/milk_models_performance.csv\n",
            "\n",
            "Done. The notebook performed EDA, trained SimpleRNN/LSTM/GRU, evaluated them, and produced a 12-month forecast.\n",
            "Files saved in /mnt/data/:\n",
            " - monthly_milk_production_forecast_12months.csv\n",
            " - milk_models_performance.csv\n"
          ]
        }
      ]
    }
  ]
}
{
 "cells": [
  {
   "cell_type": "markdown",
   "id": "26de553d-afb6-4c6f-a7cb-1b4de13e03b9",
   "metadata": {},
   "source": [
    "# Hypothesis Testing for Bombay Hospitality Ltd.\n"
   ]
  },
  {
   "cell_type": "code",
   "execution_count": 1,
   "id": "707a6300-6d0f-4c51-a37d-f9eed9ac162b",
   "metadata": {},
   "outputs": [],
   "source": [
    "from math import sqrt"
   ]
  },
  {
   "cell_type": "code",
   "execution_count": 3,
   "id": "f4d98b13-e320-489c-9242-6233ed0e6005",
   "metadata": {},
   "outputs": [],
   "source": [
    "# Given data\n",
    "n = 25                        # Sample size\n",
    "xbar = 3050                   # Sample mean weekly cost\n",
    "mean_X = 600                  # Mean number of units produced\n",
    "sd_X = 25                     # SD of units produced\n",
    "alpha = 0.05                  # Significance level"
   ]
  },
  {
   "cell_type": "code",
   "execution_count": 6,
   "id": "95be54dd-2e99-48c8-aa41-9f6887d5331e",
   "metadata": {},
   "outputs": [],
   "source": [
    "# Calculate the model mean cost (u0)\n",
    "mu0 = 1000 + 5 * mean_X\n",
    "\n",
    "# Find the Population SD of Weekly cost (u0)\n",
    "sigma_W = 5 * sd_X  \n",
    "\n",
    "# Calculate standard error \n",
    "SE = sigma_W / sqrt(n)      \n",
    "\n",
    "# Compute Z test statistic\n",
    "Z = (xbar - mu0) / SE        \n",
    "\n",
    "# Critical value for right-tailed test\n",
    "z_critical = 1.645        "
   ]
  },
  {
   "cell_type": "code",
   "execution_count": 12,
   "id": "190ff9fb-52f1-4387-bced-822e631b5b1a",
   "metadata": {},
   "outputs": [
    {
     "name": "stdout",
     "output_type": "stream",
     "text": [
      "=== Hypothesis Testing Results ===\n",
      "H0: u = 4000 | H1: u > u0\n",
      "Sample mean (x)     = 3050\n",
      "Population SD (sigma_W)  = 125\n",
      "Standard Error (SE)  = 25.0\n",
      "Z test statistic     = -38.0\n",
      "Critical Z value     = 1.645\n",
      "Decision             = Fail to Reject H0\n",
      "Conclusion: No evidence that costs are higher.\n"
     ]
    }
   ],
   "source": [
    "# Decision making\n",
    "if Z >= z_critical:           # If test stat >= critical value\n",
    "    decision = \"Reject H0\"    # Reject null hypothesis\n",
    "    conclusion = \"Evidence supports higher costs.\"\n",
    "else:                         # Otherwise\n",
    "    decision = \"Fail to Reject H0\"  \n",
    "    conclusion = \"No evidence that costs are higher.\"\n",
    "\n",
    "# Output results ---\n",
    "print(\"=== Hypothesis Testing Results ===\")\n",
    "print(f\"H0: u = {mu0} | H1: u > u0\")\n",
    "print(f\"Sample mean (x)     = {xbar}\")\n",
    "print(f\"Population SD (sigma_W)  = {sigma_W}\")\n",
    "print(f\"Standard Error (SE)  = {SE}\")\n",
    "print(f\"Z test statistic     = {Z}\")\n",
    "print(f\"Critical Z value     = {z_critical}\")\n",
    "print(f\"Decision             = {decision}\")\n",
    "print(\"Conclusion:\", conclusion)\n"
   ]
  },
  {
   "cell_type": "markdown",
   "id": "a49269af-9f8c-44f9-a257-a91dda1379c0",
   "metadata": {},
   "source": [
    "# Summary\n",
    "Take given data\n",
    "\n",
    "Compute model mean (u0)\n",
    "\n",
    "Find population SD & SE\n",
    "\n",
    "Calculate Z statistic\n",
    "\n",
    "Compare with critical value\n",
    "\n",
    "Make decision (Reject or Fail to Reject H0)\n",
    "\n",
    "Print results and conclusion"
   ]
  },
  {
   "cell_type": "markdown",
   "id": "801e875c-fa8b-43ed-913f-3b2f6da6c970",
   "metadata": {},
   "source": [
    "# Chi-Square Test"
   ]
  },
  {
   "cell_type": "code",
   "execution_count": 14,
   "id": "9ba0fb2e-44bf-4448-9694-4c4672a9734b",
   "metadata": {},
   "outputs": [],
   "source": [
    "import numpy as np  \n",
    "from scipy.stats import chi2  # For critical value and chi-square distribution"
   ]
  },
  {
   "cell_type": "code",
   "execution_count": 15,
   "id": "a6f66487-3117-4891-8cf9-819233a7d251",
   "metadata": {},
   "outputs": [],
   "source": [
    "# Creating the observed Frequency Table\n",
    "observed = np.array([\n",
    "    [50, 70],   \n",
    "    [80, 100],   \n",
    "    [60, 90],    \n",
    "    [30, 50],    \n",
    "    [20, 50]     \n",
    "])"
   ]
  },
  {
   "cell_type": "code",
   "execution_count": 16,
   "id": "114e6526-9828-411e-8220-afe1594e7808",
   "metadata": {},
   "outputs": [],
   "source": [
    "# Calculate the Totals or Row, Column,Overall\n",
    "row_totals = observed.sum(axis=1)     \n",
    "col_totals = observed.sum(axis=0)     \n",
    "grand_total = observed.sum()"
   ]
  },
  {
   "cell_type": "code",
   "execution_count": 17,
   "id": "26812126-5991-4206-abc9-b61a7f4d0a4b",
   "metadata": {},
   "outputs": [],
   "source": [
    "# Calculate expected frequencies\n",
    "expected = np.outer(row_totals, col_totals) / grand_total \n",
    "\n",
    "# Calculate Chi-Square statistic \n",
    "chi_square_stat = ((observed - expected) ** 2 / expected).sum()\n",
    "\n",
    "# Degrees of freedom \n",
    "# Formula: (number of rows - 1) * (number of columns - 1)\n",
    "df = (observed.shape[0] - 1) * (observed.shape[1] - 1)\n",
    "\n",
    "# Critical value from Chi-Square table \n",
    "alpha = 0.05\n",
    "critical_value = chi2.ppf(1 - alpha, df)\n"
   ]
  },
  {
   "cell_type": "code",
   "execution_count": 18,
   "id": "e2b95ee3-b1e4-4365-bab8-bcf4248a6054",
   "metadata": {},
   "outputs": [],
   "source": [
    "# Decision \n",
    "if chi_square_stat > critical_value:\n",
    "    decision = \"Reject H0\"  # There is a significant association\n",
    "    conclusion = \"There is evidence of an association between device type and customer satisfaction.\"\n",
    "else:\n",
    "    decision = \"Fail to Reject H0\"  # No significant association\n",
    "    conclusion = \"No evidence of an association between device type and customer satisfaction.\"\n"
   ]
  },
  {
   "cell_type": "code",
   "execution_count": 19,
   "id": "5564da8a-24f1-47c7-bc1a-d3cf8b1f1d07",
   "metadata": {},
   "outputs": [
    {
     "name": "stdout",
     "output_type": "stream",
     "text": [
      "=== Chi-Square Test for Independence ===\n",
      "Chi-Square Statistic = 5.6382\n",
      "Degrees of Freedom   = 4\n",
      "Critical Value       = 9.4877\n",
      "Decision             = Fail to Reject H0\n",
      "Conclusion: No evidence of an association between device type and customer satisfaction.\n"
     ]
    }
   ],
   "source": [
    "# Print results \n",
    "print(\"=== Chi-Square Test for Independence ===\")\n",
    "print(f\"Chi-Square Statistic = {chi_square_stat:.4f}\")\n",
    "print(f\"Degrees of Freedom   = {df}\")\n",
    "print(f\"Critical Value       = {critical_value:.4f}\")\n",
    "print(f\"Decision             = {decision}\")\n",
    "print(\"Conclusion:\", conclusion)"
   ]
  },
  {
   "cell_type": "markdown",
   "id": "e2b86866-68b3-4524-882b-ac6a5aa07282",
   "metadata": {},
   "source": [
    "# Summary\n",
    "Check if device type and satisfaction are related.\n",
    "\n",
    "Calculate expected counts assuming independence.\n",
    "\n",
    "Compute Chi-Square statistic from observed vs expected.\n",
    "\n",
    "Find degrees of freedom and critical value at 5% level.\n",
    "\n",
    "Compare statistic to critical value and decide."
   ]
  },
  {
   "cell_type": "code",
   "execution_count": null,
   "id": "53629e04-9042-406c-8ae5-c4a6d764a83a",
   "metadata": {},
   "outputs": [],
   "source": []
  }
 ],
 "metadata": {
  "kernelspec": {
   "display_name": "Python [conda env:base] *",
   "language": "python",
   "name": "conda-base-py"
  },
  "language_info": {
   "codemirror_mode": {
    "name": "ipython",
    "version": 3
   },
   "file_extension": ".py",
   "mimetype": "text/x-python",
   "name": "python",
   "nbconvert_exporter": "python",
   "pygments_lexer": "ipython3",
   "version": "3.12.7"
  }
 },
 "nbformat": 4,
 "nbformat_minor": 5
}

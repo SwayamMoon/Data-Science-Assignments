{
 "cells": [
  {
   "cell_type": "markdown",
   "id": "df7539c0-1ef3-41ba-aa0d-59db92888f35",
   "metadata": {},
   "source": [
    "# Prime Number Check"
   ]
  },
  {
   "cell_type": "code",
   "execution_count": 7,
   "id": "bd7c11d1-b1d1-4c94-8210-768483d735ec",
   "metadata": {},
   "outputs": [
    {
     "name": "stdin",
     "output_type": "stream",
     "text": [
      "Enter a number:  7\n"
     ]
    },
    {
     "name": "stdout",
     "output_type": "stream",
     "text": [
      "7 IS a prime number.\n"
     ]
    }
   ],
   "source": [
    "# Step 1: Take input from user\n",
    "num = input(\"Enter a number: \")\n",
    "\n",
    "# Step 2: Convert input to integer\n",
    "num = int(num)\n",
    "\n",
    "# Step 3: Check if number is greater than 1 (because 1 is not prime)\n",
    "if num > 1:\n",
    "\n",
    "    # Step 4: Run a for loop from 2 to number - 1\n",
    "    for i in range(2, num):\n",
    "\n",
    "        # Step 5: Check if number is divisible by any i\n",
    "        if num % i == 0:\n",
    "            \n",
    "            # Step 6: If divisible, it is NOT prime\n",
    "            print(f\"{num} is NOT a prime number.\")\n",
    "            break\n",
    "\n",
    "    # Step 7: If loop completes without finding a divisor\n",
    "    else:\n",
    "        print(f\"{num} IS a prime number.\")\n",
    "\n",
    "else:\n",
    "    # If number is less than or equal to 1\n",
    "    print(f\"{num} is NOT a prime number.\")\n"
   ]
  },
  {
   "cell_type": "markdown",
   "id": "eed80808-3acf-445f-80cb-404642f8ed82",
   "metadata": {},
   "source": [
    "# Product of Random Number"
   ]
  },
  {
   "cell_type": "code",
   "execution_count": 8,
   "id": "f38c886f-eaf1-41cc-9066-19aee2951266",
   "metadata": {},
   "outputs": [],
   "source": [
    "import random"
   ]
  },
  {
   "cell_type": "code",
   "execution_count": 15,
   "id": "665c5c4a-d885-4e27-b4a2-61cbfa6f2b42",
   "metadata": {},
   "outputs": [
    {
     "name": "stdout",
     "output_type": "stream",
     "text": [
      "What is the product of 1 and 6?\n"
     ]
    },
    {
     "name": "stdin",
     "output_type": "stream",
     "text": [
      "Enter your answer:  4\n"
     ]
    },
    {
     "name": "stdout",
     "output_type": "stream",
     "text": [
      "Wrong! The correct answer is 6\n"
     ]
    }
   ],
   "source": [
    "# Step 1: Generating two random numbers between 1 and 10\n",
    "num1 = random.randint(1, 10)\n",
    "num2 = random.randint(1, 10)\n",
    "\n",
    "# Step 2: Showing the numbers and ask user to enter the product\n",
    "print(f\"What is the product of {num1} and {num2}?\")\n",
    "user_answer = int(input(\"Enter your answer: \"))\n",
    "\n",
    "# Step 3: Calculate actual product\n",
    "actual_product = num1 * num2\n",
    "\n",
    "# Step 6: Compare user answer with actual product\n",
    "if user_answer == actual_product:\n",
    "    print(\"Correct! \")\n",
    "else:\n",
    "    print(f\"Wrong! The correct answer is {actual_product}\")\n"
   ]
  },
  {
   "cell_type": "markdown",
   "id": "1539f062-5aab-4078-a2fe-ef4eb7d4ea3b",
   "metadata": {},
   "source": [
    "# Squares of Even Or Odd Numbers(100 to 200)"
   ]
  },
  {
   "cell_type": "code",
   "execution_count": 16,
   "id": "eba829b5-d7e4-4911-914d-af1295037dc9",
   "metadata": {},
   "outputs": [
    {
     "name": "stdout",
     "output_type": "stream",
     "text": [
      "The square of 100 is 10000\n",
      "The square of 102 is 10404\n",
      "The square of 104 is 10816\n",
      "The square of 106 is 11236\n",
      "The square of 108 is 11664\n",
      "The square of 110 is 12100\n",
      "The square of 112 is 12544\n",
      "The square of 114 is 12996\n",
      "The square of 116 is 13456\n",
      "The square of 118 is 13924\n",
      "The square of 120 is 14400\n",
      "The square of 122 is 14884\n",
      "The square of 124 is 15376\n",
      "The square of 126 is 15876\n",
      "The square of 128 is 16384\n",
      "The square of 130 is 16900\n",
      "The square of 132 is 17424\n",
      "The square of 134 is 17956\n",
      "The square of 136 is 18496\n",
      "The square of 138 is 19044\n",
      "The square of 140 is 19600\n",
      "The square of 142 is 20164\n",
      "The square of 144 is 20736\n",
      "The square of 146 is 21316\n",
      "The square of 148 is 21904\n",
      "The square of 150 is 22500\n",
      "The square of 152 is 23104\n",
      "The square of 154 is 23716\n",
      "The square of 156 is 24336\n",
      "The square of 158 is 24964\n",
      "The square of 160 is 25600\n",
      "The square of 162 is 26244\n",
      "The square of 164 is 26896\n",
      "The square of 166 is 27556\n",
      "The square of 168 is 28224\n",
      "The square of 170 is 28900\n",
      "The square of 172 is 29584\n",
      "The square of 174 is 30276\n",
      "The square of 176 is 30976\n",
      "The square of 178 is 31684\n",
      "The square of 180 is 32400\n",
      "The square of 182 is 33124\n",
      "The square of 184 is 33856\n",
      "The square of 186 is 34596\n",
      "The square of 188 is 35344\n",
      "The square of 190 is 36100\n",
      "The square of 192 is 36864\n",
      "The square of 194 is 37636\n",
      "The square of 196 is 38416\n",
      "The square of 198 is 39204\n",
      "The square of 200 is 40000\n"
     ]
    }
   ],
   "source": [
    "# Step 1: Loop through numbers from 100 to 200\n",
    "for num in range(100, 201):\n",
    "\n",
    "    # Step 2: Check if the number is even\n",
    "    if num % 2 == 0:\n",
    "\n",
    "        # Step 3: Calculate square\n",
    "        square = num ** 2\n",
    "\n",
    "        # Step 4: Print result\n",
    "        print(f\"The square of {num} is {square}\")\n"
   ]
  },
  {
   "cell_type": "markdown",
   "id": "4a580eaa-fda3-47ea-a4ce-d69daa90d326",
   "metadata": {},
   "source": [
    "# Word Counter"
   ]
  },
  {
   "cell_type": "code",
   "execution_count": 19,
   "id": "47f57dea-8475-4d74-9a36-4abd70bad019",
   "metadata": {},
   "outputs": [
    {
     "name": "stdout",
     "output_type": "stream",
     "text": [
      "'This': 2\n",
      "'is': 1\n",
      "'a': 1\n",
      "'sample': 1\n",
      "'text.': 1\n",
      "'text': 1\n",
      "'will': 1\n",
      "'be': 1\n",
      "'used': 1\n",
      "'to': 1\n",
      "'demonstrate': 1\n",
      "'the': 1\n",
      "'word': 1\n",
      "'counter.': 1\n"
     ]
    }
   ],
   "source": [
    "# Step 1: Input text\n",
    "input_text = \"This is a sample text. This text will be used to demonstrate the word counter.\"\n",
    "\n",
    "# Step 2: Split the text into a list of words\n",
    "words = input_text.split()\n",
    "\n",
    "# Step 3: Create empty dictionary for word count\n",
    "word_count = {}\n",
    "\n",
    "# Step 4: Loop through each word in the list\n",
    "for word in words:\n",
    "    \n",
    "    # Step 5: Count the word using dictionary\n",
    "    if word in word_count:\n",
    "        word_count[word] += 1\n",
    "    else:\n",
    "        word_count[word] = 1\n",
    "\n",
    "# Step 6: Print each word and its count\n",
    "for word, count in word_count.items():\n",
    "    print(f\"'{word}': {count}\")\n"
   ]
  },
  {
   "cell_type": "markdown",
   "id": "39861849-83b8-4ef4-87fd-0388cef3830f",
   "metadata": {},
   "source": [
    "# Palindrome Checker"
   ]
  },
  {
   "cell_type": "code",
   "execution_count": 22,
   "id": "ececd56b-1433-4262-841c-8a02b8f72c3a",
   "metadata": {},
   "outputs": [
    {
     "name": "stdout",
     "output_type": "stream",
     "text": [
      "True\n",
      "True\n",
      "False\n"
     ]
    }
   ],
   "source": [
    "def is_palindrome(text):\n",
    "    # Remove non-alphanumeric characters and convert to lowercase\n",
    "    cleaned = ''\n",
    "    for char in text:\n",
    "        if char.isalnum():\n",
    "            cleaned += char.lower()\n",
    "\n",
    "    # Reverse the cleaned string\n",
    "    reversed_text = cleaned[::-1]\n",
    "\n",
    "    # Compare cleaned string with its reverse\n",
    "    return cleaned == reversed_text\n",
    "\n",
    "# Test the function\n",
    "print(is_palindrome(\"racecar\"))  # True\n",
    "print(is_palindrome(\"Was it a car or a cat I saw\"))  # True\n",
    "print(is_palindrome(\"hello\"))  # False\n"
   ]
  },
  {
   "cell_type": "markdown",
   "id": "c24172f9-5001-4d8e-9616-d6584af94494",
   "metadata": {},
   "source": [
    "# Over all exerciese Summary \n",
    "1. Prime Number Checker :\n",
    "\n",
    "Checks if a number is prime by testing if it's only divisible by 1 and itself.\n",
    "\n",
    "2. Product of Random Numbers :\n",
    "\n",
    "Generates 2 random numbers, asks the user to multiply them, and checks if the answer is correct.\n",
    "\n",
    "3. Squares of Even/Odd Numbers (100–200) :\n",
    "\n",
    "Prints the squares of either even or odd numbers between 100 to 200, based on your choice.\n",
    "\n",
    "4.  Word Counter : \n",
    "\n",
    "Counts how many times each word appears in a given sentence using a dictionary.\n",
    "\n",
    "5.   Palindrome Checker: \n",
    "\n",
    "Checks if a word or sentence is a palindrome by ignoring spaces, punctuation, and case, and comparing it with its reverse."
   ]
  },
  {
   "cell_type": "code",
   "execution_count": null,
   "id": "687d9a92-ba19-4e1a-b86c-0fa5640b07e9",
   "metadata": {},
   "outputs": [],
   "source": []
  }
 ],
 "metadata": {
  "kernelspec": {
   "display_name": "Python [conda env:base] *",
   "language": "python",
   "name": "conda-base-py"
  },
  "language_info": {
   "codemirror_mode": {
    "name": "ipython",
    "version": 3
   },
   "file_extension": ".py",
   "mimetype": "text/x-python",
   "name": "python",
   "nbconvert_exporter": "python",
   "pygments_lexer": "ipython3",
   "version": "3.12.7"
  }
 },
 "nbformat": 4,
 "nbformat_minor": 5
}
